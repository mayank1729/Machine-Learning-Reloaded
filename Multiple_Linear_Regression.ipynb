{
  "nbformat": 4,
  "nbformat_minor": 0,
  "metadata": {
    "colab": {
      "name": "Multiple Linear Regression.ipynb",
      "provenance": [],
      "authorship_tag": "ABX9TyO3fz+PJTDoFL6JvmCvby2a",
      "include_colab_link": true
    },
    "kernelspec": {
      "name": "python3",
      "display_name": "Python 3"
    }
  },
  "cells": [
    {
      "cell_type": "markdown",
      "metadata": {
        "id": "view-in-github",
        "colab_type": "text"
      },
      "source": [
        "<a href=\"https://colab.research.google.com/github/mayank1729/Machine-Learning-Reloaded/blob/master/Multiple_Linear_Regression.ipynb\" target=\"_parent\"><img src=\"https://colab.research.google.com/assets/colab-badge.svg\" alt=\"Open In Colab\"/></a>"
      ]
    },
    {
      "cell_type": "code",
      "metadata": {
        "id": "Vc_zJxDF8oe7",
        "colab_type": "code",
        "colab": {}
      },
      "source": [
        "#Importing the libraries\n",
        "\n",
        "import numpy as np\n",
        "import pandas as pd\n",
        "import matplotlib.pyplot as plt\n"
      ],
      "execution_count": 0,
      "outputs": []
    },
    {
      "cell_type": "code",
      "metadata": {
        "id": "kw0cvaBQSL3S",
        "colab_type": "code",
        "colab": {
          "resources": {
            "http://localhost:8080/nbextensions/google.colab/files.js": {
              "data": "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",
              "ok": true,
              "headers": [
                [
                  "content-type",
                  "application/javascript"
                ]
              ],
              "status": 200,
              "status_text": ""
            }
          },
          "base_uri": "https://localhost:8080/",
          "height": 74
        },
        "outputId": "d9c9b23b-5fc8-40cd-b35a-327219f37cd0"
      },
      "source": [
        "#Import dataset\n",
        "from google.colab import files\n",
        "uploaded = files.upload()"
      ],
      "execution_count": 3,
      "outputs": [
        {
          "output_type": "display_data",
          "data": {
            "text/html": [
              "\n",
              "     <input type=\"file\" id=\"files-b22f0580-1dd6-4c95-aef1-907b4b05b122\" name=\"files[]\" multiple disabled />\n",
              "     <output id=\"result-b22f0580-1dd6-4c95-aef1-907b4b05b122\">\n",
              "      Upload widget is only available when the cell has been executed in the\n",
              "      current browser session. Please rerun this cell to enable.\n",
              "      </output>\n",
              "      <script src=\"/nbextensions/google.colab/files.js\"></script> "
            ],
            "text/plain": [
              "<IPython.core.display.HTML object>"
            ]
          },
          "metadata": {
            "tags": []
          }
        },
        {
          "output_type": "stream",
          "text": [
            "Saving 50_Startups.csv to 50_Startups (1).csv\n"
          ],
          "name": "stdout"
        }
      ]
    },
    {
      "cell_type": "code",
      "metadata": {
        "id": "BhFl0YbgSOZA",
        "colab_type": "code",
        "colab": {}
      },
      "source": [
        "import io\n",
        "df = pd.read_csv(io.BytesIO(uploaded['50_Startups.csv']))\n",
        "# Dataset is now stored in a Pandas Dataframe"
      ],
      "execution_count": 0,
      "outputs": []
    },
    {
      "cell_type": "code",
      "metadata": {
        "id": "LRMV7pWSSQmD",
        "colab_type": "code",
        "colab": {
          "base_uri": "https://localhost:8080/",
          "height": 1000
        },
        "outputId": "1ab67b94-304d-4e95-cd94-8a942c2ab2b9"
      },
      "source": [
        "df"
      ],
      "execution_count": 5,
      "outputs": [
        {
          "output_type": "execute_result",
          "data": {
            "text/html": [
              "<div>\n",
              "<style scoped>\n",
              "    .dataframe tbody tr th:only-of-type {\n",
              "        vertical-align: middle;\n",
              "    }\n",
              "\n",
              "    .dataframe tbody tr th {\n",
              "        vertical-align: top;\n",
              "    }\n",
              "\n",
              "    .dataframe thead th {\n",
              "        text-align: right;\n",
              "    }\n",
              "</style>\n",
              "<table border=\"1\" class=\"dataframe\">\n",
              "  <thead>\n",
              "    <tr style=\"text-align: right;\">\n",
              "      <th></th>\n",
              "      <th>R&amp;D Spend</th>\n",
              "      <th>Administration</th>\n",
              "      <th>Marketing Spend</th>\n",
              "      <th>State</th>\n",
              "      <th>Profit</th>\n",
              "    </tr>\n",
              "  </thead>\n",
              "  <tbody>\n",
              "    <tr>\n",
              "      <th>0</th>\n",
              "      <td>165349.20</td>\n",
              "      <td>136897.80</td>\n",
              "      <td>471784.10</td>\n",
              "      <td>New York</td>\n",
              "      <td>192261.83</td>\n",
              "    </tr>\n",
              "    <tr>\n",
              "      <th>1</th>\n",
              "      <td>162597.70</td>\n",
              "      <td>151377.59</td>\n",
              "      <td>443898.53</td>\n",
              "      <td>California</td>\n",
              "      <td>191792.06</td>\n",
              "    </tr>\n",
              "    <tr>\n",
              "      <th>2</th>\n",
              "      <td>153441.51</td>\n",
              "      <td>101145.55</td>\n",
              "      <td>407934.54</td>\n",
              "      <td>Florida</td>\n",
              "      <td>191050.39</td>\n",
              "    </tr>\n",
              "    <tr>\n",
              "      <th>3</th>\n",
              "      <td>144372.41</td>\n",
              "      <td>118671.85</td>\n",
              "      <td>383199.62</td>\n",
              "      <td>New York</td>\n",
              "      <td>182901.99</td>\n",
              "    </tr>\n",
              "    <tr>\n",
              "      <th>4</th>\n",
              "      <td>142107.34</td>\n",
              "      <td>91391.77</td>\n",
              "      <td>366168.42</td>\n",
              "      <td>Florida</td>\n",
              "      <td>166187.94</td>\n",
              "    </tr>\n",
              "    <tr>\n",
              "      <th>5</th>\n",
              "      <td>131876.90</td>\n",
              "      <td>99814.71</td>\n",
              "      <td>362861.36</td>\n",
              "      <td>New York</td>\n",
              "      <td>156991.12</td>\n",
              "    </tr>\n",
              "    <tr>\n",
              "      <th>6</th>\n",
              "      <td>134615.46</td>\n",
              "      <td>147198.87</td>\n",
              "      <td>127716.82</td>\n",
              "      <td>California</td>\n",
              "      <td>156122.51</td>\n",
              "    </tr>\n",
              "    <tr>\n",
              "      <th>7</th>\n",
              "      <td>130298.13</td>\n",
              "      <td>145530.06</td>\n",
              "      <td>323876.68</td>\n",
              "      <td>Florida</td>\n",
              "      <td>155752.60</td>\n",
              "    </tr>\n",
              "    <tr>\n",
              "      <th>8</th>\n",
              "      <td>120542.52</td>\n",
              "      <td>148718.95</td>\n",
              "      <td>311613.29</td>\n",
              "      <td>New York</td>\n",
              "      <td>152211.77</td>\n",
              "    </tr>\n",
              "    <tr>\n",
              "      <th>9</th>\n",
              "      <td>123334.88</td>\n",
              "      <td>108679.17</td>\n",
              "      <td>304981.62</td>\n",
              "      <td>California</td>\n",
              "      <td>149759.96</td>\n",
              "    </tr>\n",
              "    <tr>\n",
              "      <th>10</th>\n",
              "      <td>101913.08</td>\n",
              "      <td>110594.11</td>\n",
              "      <td>229160.95</td>\n",
              "      <td>Florida</td>\n",
              "      <td>146121.95</td>\n",
              "    </tr>\n",
              "    <tr>\n",
              "      <th>11</th>\n",
              "      <td>100671.96</td>\n",
              "      <td>91790.61</td>\n",
              "      <td>249744.55</td>\n",
              "      <td>California</td>\n",
              "      <td>144259.40</td>\n",
              "    </tr>\n",
              "    <tr>\n",
              "      <th>12</th>\n",
              "      <td>93863.75</td>\n",
              "      <td>127320.38</td>\n",
              "      <td>249839.44</td>\n",
              "      <td>Florida</td>\n",
              "      <td>141585.52</td>\n",
              "    </tr>\n",
              "    <tr>\n",
              "      <th>13</th>\n",
              "      <td>91992.39</td>\n",
              "      <td>135495.07</td>\n",
              "      <td>252664.93</td>\n",
              "      <td>California</td>\n",
              "      <td>134307.35</td>\n",
              "    </tr>\n",
              "    <tr>\n",
              "      <th>14</th>\n",
              "      <td>119943.24</td>\n",
              "      <td>156547.42</td>\n",
              "      <td>256512.92</td>\n",
              "      <td>Florida</td>\n",
              "      <td>132602.65</td>\n",
              "    </tr>\n",
              "    <tr>\n",
              "      <th>15</th>\n",
              "      <td>114523.61</td>\n",
              "      <td>122616.84</td>\n",
              "      <td>261776.23</td>\n",
              "      <td>New York</td>\n",
              "      <td>129917.04</td>\n",
              "    </tr>\n",
              "    <tr>\n",
              "      <th>16</th>\n",
              "      <td>78013.11</td>\n",
              "      <td>121597.55</td>\n",
              "      <td>264346.06</td>\n",
              "      <td>California</td>\n",
              "      <td>126992.93</td>\n",
              "    </tr>\n",
              "    <tr>\n",
              "      <th>17</th>\n",
              "      <td>94657.16</td>\n",
              "      <td>145077.58</td>\n",
              "      <td>282574.31</td>\n",
              "      <td>New York</td>\n",
              "      <td>125370.37</td>\n",
              "    </tr>\n",
              "    <tr>\n",
              "      <th>18</th>\n",
              "      <td>91749.16</td>\n",
              "      <td>114175.79</td>\n",
              "      <td>294919.57</td>\n",
              "      <td>Florida</td>\n",
              "      <td>124266.90</td>\n",
              "    </tr>\n",
              "    <tr>\n",
              "      <th>19</th>\n",
              "      <td>86419.70</td>\n",
              "      <td>153514.11</td>\n",
              "      <td>0.00</td>\n",
              "      <td>New York</td>\n",
              "      <td>122776.86</td>\n",
              "    </tr>\n",
              "    <tr>\n",
              "      <th>20</th>\n",
              "      <td>76253.86</td>\n",
              "      <td>113867.30</td>\n",
              "      <td>298664.47</td>\n",
              "      <td>California</td>\n",
              "      <td>118474.03</td>\n",
              "    </tr>\n",
              "    <tr>\n",
              "      <th>21</th>\n",
              "      <td>78389.47</td>\n",
              "      <td>153773.43</td>\n",
              "      <td>299737.29</td>\n",
              "      <td>New York</td>\n",
              "      <td>111313.02</td>\n",
              "    </tr>\n",
              "    <tr>\n",
              "      <th>22</th>\n",
              "      <td>73994.56</td>\n",
              "      <td>122782.75</td>\n",
              "      <td>303319.26</td>\n",
              "      <td>Florida</td>\n",
              "      <td>110352.25</td>\n",
              "    </tr>\n",
              "    <tr>\n",
              "      <th>23</th>\n",
              "      <td>67532.53</td>\n",
              "      <td>105751.03</td>\n",
              "      <td>304768.73</td>\n",
              "      <td>Florida</td>\n",
              "      <td>108733.99</td>\n",
              "    </tr>\n",
              "    <tr>\n",
              "      <th>24</th>\n",
              "      <td>77044.01</td>\n",
              "      <td>99281.34</td>\n",
              "      <td>140574.81</td>\n",
              "      <td>New York</td>\n",
              "      <td>108552.04</td>\n",
              "    </tr>\n",
              "    <tr>\n",
              "      <th>25</th>\n",
              "      <td>64664.71</td>\n",
              "      <td>139553.16</td>\n",
              "      <td>137962.62</td>\n",
              "      <td>California</td>\n",
              "      <td>107404.34</td>\n",
              "    </tr>\n",
              "    <tr>\n",
              "      <th>26</th>\n",
              "      <td>75328.87</td>\n",
              "      <td>144135.98</td>\n",
              "      <td>134050.07</td>\n",
              "      <td>Florida</td>\n",
              "      <td>105733.54</td>\n",
              "    </tr>\n",
              "    <tr>\n",
              "      <th>27</th>\n",
              "      <td>72107.60</td>\n",
              "      <td>127864.55</td>\n",
              "      <td>353183.81</td>\n",
              "      <td>New York</td>\n",
              "      <td>105008.31</td>\n",
              "    </tr>\n",
              "    <tr>\n",
              "      <th>28</th>\n",
              "      <td>66051.52</td>\n",
              "      <td>182645.56</td>\n",
              "      <td>118148.20</td>\n",
              "      <td>Florida</td>\n",
              "      <td>103282.38</td>\n",
              "    </tr>\n",
              "    <tr>\n",
              "      <th>29</th>\n",
              "      <td>65605.48</td>\n",
              "      <td>153032.06</td>\n",
              "      <td>107138.38</td>\n",
              "      <td>New York</td>\n",
              "      <td>101004.64</td>\n",
              "    </tr>\n",
              "    <tr>\n",
              "      <th>30</th>\n",
              "      <td>61994.48</td>\n",
              "      <td>115641.28</td>\n",
              "      <td>91131.24</td>\n",
              "      <td>Florida</td>\n",
              "      <td>99937.59</td>\n",
              "    </tr>\n",
              "    <tr>\n",
              "      <th>31</th>\n",
              "      <td>61136.38</td>\n",
              "      <td>152701.92</td>\n",
              "      <td>88218.23</td>\n",
              "      <td>New York</td>\n",
              "      <td>97483.56</td>\n",
              "    </tr>\n",
              "    <tr>\n",
              "      <th>32</th>\n",
              "      <td>63408.86</td>\n",
              "      <td>129219.61</td>\n",
              "      <td>46085.25</td>\n",
              "      <td>California</td>\n",
              "      <td>97427.84</td>\n",
              "    </tr>\n",
              "    <tr>\n",
              "      <th>33</th>\n",
              "      <td>55493.95</td>\n",
              "      <td>103057.49</td>\n",
              "      <td>214634.81</td>\n",
              "      <td>Florida</td>\n",
              "      <td>96778.92</td>\n",
              "    </tr>\n",
              "    <tr>\n",
              "      <th>34</th>\n",
              "      <td>46426.07</td>\n",
              "      <td>157693.92</td>\n",
              "      <td>210797.67</td>\n",
              "      <td>California</td>\n",
              "      <td>96712.80</td>\n",
              "    </tr>\n",
              "    <tr>\n",
              "      <th>35</th>\n",
              "      <td>46014.02</td>\n",
              "      <td>85047.44</td>\n",
              "      <td>205517.64</td>\n",
              "      <td>New York</td>\n",
              "      <td>96479.51</td>\n",
              "    </tr>\n",
              "    <tr>\n",
              "      <th>36</th>\n",
              "      <td>28663.76</td>\n",
              "      <td>127056.21</td>\n",
              "      <td>201126.82</td>\n",
              "      <td>Florida</td>\n",
              "      <td>90708.19</td>\n",
              "    </tr>\n",
              "    <tr>\n",
              "      <th>37</th>\n",
              "      <td>44069.95</td>\n",
              "      <td>51283.14</td>\n",
              "      <td>197029.42</td>\n",
              "      <td>California</td>\n",
              "      <td>89949.14</td>\n",
              "    </tr>\n",
              "    <tr>\n",
              "      <th>38</th>\n",
              "      <td>20229.59</td>\n",
              "      <td>65947.93</td>\n",
              "      <td>185265.10</td>\n",
              "      <td>New York</td>\n",
              "      <td>81229.06</td>\n",
              "    </tr>\n",
              "    <tr>\n",
              "      <th>39</th>\n",
              "      <td>38558.51</td>\n",
              "      <td>82982.09</td>\n",
              "      <td>174999.30</td>\n",
              "      <td>California</td>\n",
              "      <td>81005.76</td>\n",
              "    </tr>\n",
              "    <tr>\n",
              "      <th>40</th>\n",
              "      <td>28754.33</td>\n",
              "      <td>118546.05</td>\n",
              "      <td>172795.67</td>\n",
              "      <td>California</td>\n",
              "      <td>78239.91</td>\n",
              "    </tr>\n",
              "    <tr>\n",
              "      <th>41</th>\n",
              "      <td>27892.92</td>\n",
              "      <td>84710.77</td>\n",
              "      <td>164470.71</td>\n",
              "      <td>Florida</td>\n",
              "      <td>77798.83</td>\n",
              "    </tr>\n",
              "    <tr>\n",
              "      <th>42</th>\n",
              "      <td>23640.93</td>\n",
              "      <td>96189.63</td>\n",
              "      <td>148001.11</td>\n",
              "      <td>California</td>\n",
              "      <td>71498.49</td>\n",
              "    </tr>\n",
              "    <tr>\n",
              "      <th>43</th>\n",
              "      <td>15505.73</td>\n",
              "      <td>127382.30</td>\n",
              "      <td>35534.17</td>\n",
              "      <td>New York</td>\n",
              "      <td>69758.98</td>\n",
              "    </tr>\n",
              "    <tr>\n",
              "      <th>44</th>\n",
              "      <td>22177.74</td>\n",
              "      <td>154806.14</td>\n",
              "      <td>28334.72</td>\n",
              "      <td>California</td>\n",
              "      <td>65200.33</td>\n",
              "    </tr>\n",
              "    <tr>\n",
              "      <th>45</th>\n",
              "      <td>1000.23</td>\n",
              "      <td>124153.04</td>\n",
              "      <td>1903.93</td>\n",
              "      <td>New York</td>\n",
              "      <td>64926.08</td>\n",
              "    </tr>\n",
              "    <tr>\n",
              "      <th>46</th>\n",
              "      <td>1315.46</td>\n",
              "      <td>115816.21</td>\n",
              "      <td>297114.46</td>\n",
              "      <td>Florida</td>\n",
              "      <td>49490.75</td>\n",
              "    </tr>\n",
              "    <tr>\n",
              "      <th>47</th>\n",
              "      <td>0.00</td>\n",
              "      <td>135426.92</td>\n",
              "      <td>0.00</td>\n",
              "      <td>California</td>\n",
              "      <td>42559.73</td>\n",
              "    </tr>\n",
              "    <tr>\n",
              "      <th>48</th>\n",
              "      <td>542.05</td>\n",
              "      <td>51743.15</td>\n",
              "      <td>0.00</td>\n",
              "      <td>New York</td>\n",
              "      <td>35673.41</td>\n",
              "    </tr>\n",
              "    <tr>\n",
              "      <th>49</th>\n",
              "      <td>0.00</td>\n",
              "      <td>116983.80</td>\n",
              "      <td>45173.06</td>\n",
              "      <td>California</td>\n",
              "      <td>14681.40</td>\n",
              "    </tr>\n",
              "  </tbody>\n",
              "</table>\n",
              "</div>"
            ],
            "text/plain": [
              "    R&D Spend  Administration  Marketing Spend       State     Profit\n",
              "0   165349.20       136897.80        471784.10    New York  192261.83\n",
              "1   162597.70       151377.59        443898.53  California  191792.06\n",
              "2   153441.51       101145.55        407934.54     Florida  191050.39\n",
              "3   144372.41       118671.85        383199.62    New York  182901.99\n",
              "4   142107.34        91391.77        366168.42     Florida  166187.94\n",
              "5   131876.90        99814.71        362861.36    New York  156991.12\n",
              "6   134615.46       147198.87        127716.82  California  156122.51\n",
              "7   130298.13       145530.06        323876.68     Florida  155752.60\n",
              "8   120542.52       148718.95        311613.29    New York  152211.77\n",
              "9   123334.88       108679.17        304981.62  California  149759.96\n",
              "10  101913.08       110594.11        229160.95     Florida  146121.95\n",
              "11  100671.96        91790.61        249744.55  California  144259.40\n",
              "12   93863.75       127320.38        249839.44     Florida  141585.52\n",
              "13   91992.39       135495.07        252664.93  California  134307.35\n",
              "14  119943.24       156547.42        256512.92     Florida  132602.65\n",
              "15  114523.61       122616.84        261776.23    New York  129917.04\n",
              "16   78013.11       121597.55        264346.06  California  126992.93\n",
              "17   94657.16       145077.58        282574.31    New York  125370.37\n",
              "18   91749.16       114175.79        294919.57     Florida  124266.90\n",
              "19   86419.70       153514.11             0.00    New York  122776.86\n",
              "20   76253.86       113867.30        298664.47  California  118474.03\n",
              "21   78389.47       153773.43        299737.29    New York  111313.02\n",
              "22   73994.56       122782.75        303319.26     Florida  110352.25\n",
              "23   67532.53       105751.03        304768.73     Florida  108733.99\n",
              "24   77044.01        99281.34        140574.81    New York  108552.04\n",
              "25   64664.71       139553.16        137962.62  California  107404.34\n",
              "26   75328.87       144135.98        134050.07     Florida  105733.54\n",
              "27   72107.60       127864.55        353183.81    New York  105008.31\n",
              "28   66051.52       182645.56        118148.20     Florida  103282.38\n",
              "29   65605.48       153032.06        107138.38    New York  101004.64\n",
              "30   61994.48       115641.28         91131.24     Florida   99937.59\n",
              "31   61136.38       152701.92         88218.23    New York   97483.56\n",
              "32   63408.86       129219.61         46085.25  California   97427.84\n",
              "33   55493.95       103057.49        214634.81     Florida   96778.92\n",
              "34   46426.07       157693.92        210797.67  California   96712.80\n",
              "35   46014.02        85047.44        205517.64    New York   96479.51\n",
              "36   28663.76       127056.21        201126.82     Florida   90708.19\n",
              "37   44069.95        51283.14        197029.42  California   89949.14\n",
              "38   20229.59        65947.93        185265.10    New York   81229.06\n",
              "39   38558.51        82982.09        174999.30  California   81005.76\n",
              "40   28754.33       118546.05        172795.67  California   78239.91\n",
              "41   27892.92        84710.77        164470.71     Florida   77798.83\n",
              "42   23640.93        96189.63        148001.11  California   71498.49\n",
              "43   15505.73       127382.30         35534.17    New York   69758.98\n",
              "44   22177.74       154806.14         28334.72  California   65200.33\n",
              "45    1000.23       124153.04          1903.93    New York   64926.08\n",
              "46    1315.46       115816.21        297114.46     Florida   49490.75\n",
              "47       0.00       135426.92             0.00  California   42559.73\n",
              "48     542.05        51743.15             0.00    New York   35673.41\n",
              "49       0.00       116983.80         45173.06  California   14681.40"
            ]
          },
          "metadata": {
            "tags": []
          },
          "execution_count": 5
        }
      ]
    },
    {
      "cell_type": "code",
      "metadata": {
        "id": "UwoIXP7RSlrI",
        "colab_type": "code",
        "colab": {
          "base_uri": "https://localhost:8080/",
          "height": 867
        },
        "outputId": "419da3b0-28e7-42dc-fea1-4236e8fd88de"
      },
      "source": [
        "X = df.iloc[:, :-1].values\n",
        "X"
      ],
      "execution_count": 17,
      "outputs": [
        {
          "output_type": "execute_result",
          "data": {
            "text/plain": [
              "array([[165349.2, 136897.8, 471784.1, 'New York'],\n",
              "       [162597.7, 151377.59, 443898.53, 'California'],\n",
              "       [153441.51, 101145.55, 407934.54, 'Florida'],\n",
              "       [144372.41, 118671.85, 383199.62, 'New York'],\n",
              "       [142107.34, 91391.77, 366168.42, 'Florida'],\n",
              "       [131876.9, 99814.71, 362861.36, 'New York'],\n",
              "       [134615.46, 147198.87, 127716.82, 'California'],\n",
              "       [130298.13, 145530.06, 323876.68, 'Florida'],\n",
              "       [120542.52, 148718.95, 311613.29, 'New York'],\n",
              "       [123334.88, 108679.17, 304981.62, 'California'],\n",
              "       [101913.08, 110594.11, 229160.95, 'Florida'],\n",
              "       [100671.96, 91790.61, 249744.55, 'California'],\n",
              "       [93863.75, 127320.38, 249839.44, 'Florida'],\n",
              "       [91992.39, 135495.07, 252664.93, 'California'],\n",
              "       [119943.24, 156547.42, 256512.92, 'Florida'],\n",
              "       [114523.61, 122616.84, 261776.23, 'New York'],\n",
              "       [78013.11, 121597.55, 264346.06, 'California'],\n",
              "       [94657.16, 145077.58, 282574.31, 'New York'],\n",
              "       [91749.16, 114175.79, 294919.57, 'Florida'],\n",
              "       [86419.7, 153514.11, 0.0, 'New York'],\n",
              "       [76253.86, 113867.3, 298664.47, 'California'],\n",
              "       [78389.47, 153773.43, 299737.29, 'New York'],\n",
              "       [73994.56, 122782.75, 303319.26, 'Florida'],\n",
              "       [67532.53, 105751.03, 304768.73, 'Florida'],\n",
              "       [77044.01, 99281.34, 140574.81, 'New York'],\n",
              "       [64664.71, 139553.16, 137962.62, 'California'],\n",
              "       [75328.87, 144135.98, 134050.07, 'Florida'],\n",
              "       [72107.6, 127864.55, 353183.81, 'New York'],\n",
              "       [66051.52, 182645.56, 118148.2, 'Florida'],\n",
              "       [65605.48, 153032.06, 107138.38, 'New York'],\n",
              "       [61994.48, 115641.28, 91131.24, 'Florida'],\n",
              "       [61136.38, 152701.92, 88218.23, 'New York'],\n",
              "       [63408.86, 129219.61, 46085.25, 'California'],\n",
              "       [55493.95, 103057.49, 214634.81, 'Florida'],\n",
              "       [46426.07, 157693.92, 210797.67, 'California'],\n",
              "       [46014.02, 85047.44, 205517.64, 'New York'],\n",
              "       [28663.76, 127056.21, 201126.82, 'Florida'],\n",
              "       [44069.95, 51283.14, 197029.42, 'California'],\n",
              "       [20229.59, 65947.93, 185265.1, 'New York'],\n",
              "       [38558.51, 82982.09, 174999.3, 'California'],\n",
              "       [28754.33, 118546.05, 172795.67, 'California'],\n",
              "       [27892.92, 84710.77, 164470.71, 'Florida'],\n",
              "       [23640.93, 96189.63, 148001.11, 'California'],\n",
              "       [15505.73, 127382.3, 35534.17, 'New York'],\n",
              "       [22177.74, 154806.14, 28334.72, 'California'],\n",
              "       [1000.23, 124153.04, 1903.93, 'New York'],\n",
              "       [1315.46, 115816.21, 297114.46, 'Florida'],\n",
              "       [0.0, 135426.92, 0.0, 'California'],\n",
              "       [542.05, 51743.15, 0.0, 'New York'],\n",
              "       [0.0, 116983.8, 45173.06, 'California']], dtype=object)"
            ]
          },
          "metadata": {
            "tags": []
          },
          "execution_count": 17
        }
      ]
    },
    {
      "cell_type": "code",
      "metadata": {
        "id": "Ho88-yX7SvjW",
        "colab_type": "code",
        "colab": {
          "base_uri": "https://localhost:8080/",
          "height": 34
        },
        "outputId": "06e4eeb3-84d7-423d-aa47-9889668c2d4c"
      },
      "source": [
        "X.shape"
      ],
      "execution_count": 7,
      "outputs": [
        {
          "output_type": "execute_result",
          "data": {
            "text/plain": [
              "(50, 4)"
            ]
          },
          "metadata": {
            "tags": []
          },
          "execution_count": 7
        }
      ]
    },
    {
      "cell_type": "code",
      "metadata": {
        "id": "B00Fa3JnS1us",
        "colab_type": "code",
        "colab": {
          "base_uri": "https://localhost:8080/",
          "height": 170
        },
        "outputId": "62f88c9e-da07-446d-fbb5-fc0c2b52f2be"
      },
      "source": [
        "Y = df.iloc[:,-1].values\n",
        "Y"
      ],
      "execution_count": 8,
      "outputs": [
        {
          "output_type": "execute_result",
          "data": {
            "text/plain": [
              "array([192261.83, 191792.06, 191050.39, 182901.99, 166187.94, 156991.12,\n",
              "       156122.51, 155752.6 , 152211.77, 149759.96, 146121.95, 144259.4 ,\n",
              "       141585.52, 134307.35, 132602.65, 129917.04, 126992.93, 125370.37,\n",
              "       124266.9 , 122776.86, 118474.03, 111313.02, 110352.25, 108733.99,\n",
              "       108552.04, 107404.34, 105733.54, 105008.31, 103282.38, 101004.64,\n",
              "        99937.59,  97483.56,  97427.84,  96778.92,  96712.8 ,  96479.51,\n",
              "        90708.19,  89949.14,  81229.06,  81005.76,  78239.91,  77798.83,\n",
              "        71498.49,  69758.98,  65200.33,  64926.08,  49490.75,  42559.73,\n",
              "        35673.41,  14681.4 ])"
            ]
          },
          "metadata": {
            "tags": []
          },
          "execution_count": 8
        }
      ]
    },
    {
      "cell_type": "code",
      "metadata": {
        "id": "5GY-0-hUS6Ze",
        "colab_type": "code",
        "colab": {
          "base_uri": "https://localhost:8080/",
          "height": 34
        },
        "outputId": "9ba0e401-e72a-4bf1-c408-66b5dd310480"
      },
      "source": [
        "Y.shape"
      ],
      "execution_count": 9,
      "outputs": [
        {
          "output_type": "execute_result",
          "data": {
            "text/plain": [
              "(50,)"
            ]
          },
          "metadata": {
            "tags": []
          },
          "execution_count": 9
        }
      ]
    },
    {
      "cell_type": "code",
      "metadata": {
        "id": "o-qHJJrqU9ig",
        "colab_type": "code",
        "colab": {}
      },
      "source": [
        "#Encoding the categorical data\n",
        "\n",
        "from sklearn.preprocessing import LabelEncoder\n",
        "labelencoder_X = LabelEncoder()\n",
        "X[:,-1] = labelencoder_X.fit_transform(X[:,-1])"
      ],
      "execution_count": 0,
      "outputs": []
    },
    {
      "cell_type": "code",
      "metadata": {
        "id": "sCL4MtNZYTk6",
        "colab_type": "code",
        "colab": {
          "base_uri": "https://localhost:8080/",
          "height": 867
        },
        "outputId": "7fcfb208-b662-4035-8784-3871e6d543f2"
      },
      "source": [
        "X"
      ],
      "execution_count": 19,
      "outputs": [
        {
          "output_type": "execute_result",
          "data": {
            "text/plain": [
              "array([[165349.2, 136897.8, 471784.1, 2],\n",
              "       [162597.7, 151377.59, 443898.53, 0],\n",
              "       [153441.51, 101145.55, 407934.54, 1],\n",
              "       [144372.41, 118671.85, 383199.62, 2],\n",
              "       [142107.34, 91391.77, 366168.42, 1],\n",
              "       [131876.9, 99814.71, 362861.36, 2],\n",
              "       [134615.46, 147198.87, 127716.82, 0],\n",
              "       [130298.13, 145530.06, 323876.68, 1],\n",
              "       [120542.52, 148718.95, 311613.29, 2],\n",
              "       [123334.88, 108679.17, 304981.62, 0],\n",
              "       [101913.08, 110594.11, 229160.95, 1],\n",
              "       [100671.96, 91790.61, 249744.55, 0],\n",
              "       [93863.75, 127320.38, 249839.44, 1],\n",
              "       [91992.39, 135495.07, 252664.93, 0],\n",
              "       [119943.24, 156547.42, 256512.92, 1],\n",
              "       [114523.61, 122616.84, 261776.23, 2],\n",
              "       [78013.11, 121597.55, 264346.06, 0],\n",
              "       [94657.16, 145077.58, 282574.31, 2],\n",
              "       [91749.16, 114175.79, 294919.57, 1],\n",
              "       [86419.7, 153514.11, 0.0, 2],\n",
              "       [76253.86, 113867.3, 298664.47, 0],\n",
              "       [78389.47, 153773.43, 299737.29, 2],\n",
              "       [73994.56, 122782.75, 303319.26, 1],\n",
              "       [67532.53, 105751.03, 304768.73, 1],\n",
              "       [77044.01, 99281.34, 140574.81, 2],\n",
              "       [64664.71, 139553.16, 137962.62, 0],\n",
              "       [75328.87, 144135.98, 134050.07, 1],\n",
              "       [72107.6, 127864.55, 353183.81, 2],\n",
              "       [66051.52, 182645.56, 118148.2, 1],\n",
              "       [65605.48, 153032.06, 107138.38, 2],\n",
              "       [61994.48, 115641.28, 91131.24, 1],\n",
              "       [61136.38, 152701.92, 88218.23, 2],\n",
              "       [63408.86, 129219.61, 46085.25, 0],\n",
              "       [55493.95, 103057.49, 214634.81, 1],\n",
              "       [46426.07, 157693.92, 210797.67, 0],\n",
              "       [46014.02, 85047.44, 205517.64, 2],\n",
              "       [28663.76, 127056.21, 201126.82, 1],\n",
              "       [44069.95, 51283.14, 197029.42, 0],\n",
              "       [20229.59, 65947.93, 185265.1, 2],\n",
              "       [38558.51, 82982.09, 174999.3, 0],\n",
              "       [28754.33, 118546.05, 172795.67, 0],\n",
              "       [27892.92, 84710.77, 164470.71, 1],\n",
              "       [23640.93, 96189.63, 148001.11, 0],\n",
              "       [15505.73, 127382.3, 35534.17, 2],\n",
              "       [22177.74, 154806.14, 28334.72, 0],\n",
              "       [1000.23, 124153.04, 1903.93, 2],\n",
              "       [1315.46, 115816.21, 297114.46, 1],\n",
              "       [0.0, 135426.92, 0.0, 0],\n",
              "       [542.05, 51743.15, 0.0, 2],\n",
              "       [0.0, 116983.8, 45173.06, 0]], dtype=object)"
            ]
          },
          "metadata": {
            "tags": []
          },
          "execution_count": 19
        }
      ]
    },
    {
      "cell_type": "code",
      "metadata": {
        "id": "hA__lpVaZLLw",
        "colab_type": "code",
        "colab": {}
      },
      "source": [
        "#Using OnehotEncoder\n",
        "from sklearn.preprocessing import OneHotEncoder\n",
        "from sklearn.compose import ColumnTransformer\n",
        "ct = ColumnTransformer([(\"State\", OneHotEncoder(), [3])], remainder = 'passthrough')\n",
        "X = ct.fit_transform(X)\n",
        "#onehotencoder = OneHotEncoder(categorical_features = [0])\n",
        "#X = OnehotEncoder.fit_transform(X).toarray()"
      ],
      "execution_count": 0,
      "outputs": []
    },
    {
      "cell_type": "code",
      "metadata": {
        "id": "6uJ9d7IMZYTJ",
        "colab_type": "code",
        "colab": {
          "base_uri": "https://localhost:8080/",
          "height": 867
        },
        "outputId": "b92aef46-0d8a-422c-deee-400cab7ec51a"
      },
      "source": [
        "X"
      ],
      "execution_count": 21,
      "outputs": [
        {
          "output_type": "execute_result",
          "data": {
            "text/plain": [
              "array([[0.0, 0.0, 1.0, 165349.2, 136897.8, 471784.1],\n",
              "       [1.0, 0.0, 0.0, 162597.7, 151377.59, 443898.53],\n",
              "       [0.0, 1.0, 0.0, 153441.51, 101145.55, 407934.54],\n",
              "       [0.0, 0.0, 1.0, 144372.41, 118671.85, 383199.62],\n",
              "       [0.0, 1.0, 0.0, 142107.34, 91391.77, 366168.42],\n",
              "       [0.0, 0.0, 1.0, 131876.9, 99814.71, 362861.36],\n",
              "       [1.0, 0.0, 0.0, 134615.46, 147198.87, 127716.82],\n",
              "       [0.0, 1.0, 0.0, 130298.13, 145530.06, 323876.68],\n",
              "       [0.0, 0.0, 1.0, 120542.52, 148718.95, 311613.29],\n",
              "       [1.0, 0.0, 0.0, 123334.88, 108679.17, 304981.62],\n",
              "       [0.0, 1.0, 0.0, 101913.08, 110594.11, 229160.95],\n",
              "       [1.0, 0.0, 0.0, 100671.96, 91790.61, 249744.55],\n",
              "       [0.0, 1.0, 0.0, 93863.75, 127320.38, 249839.44],\n",
              "       [1.0, 0.0, 0.0, 91992.39, 135495.07, 252664.93],\n",
              "       [0.0, 1.0, 0.0, 119943.24, 156547.42, 256512.92],\n",
              "       [0.0, 0.0, 1.0, 114523.61, 122616.84, 261776.23],\n",
              "       [1.0, 0.0, 0.0, 78013.11, 121597.55, 264346.06],\n",
              "       [0.0, 0.0, 1.0, 94657.16, 145077.58, 282574.31],\n",
              "       [0.0, 1.0, 0.0, 91749.16, 114175.79, 294919.57],\n",
              "       [0.0, 0.0, 1.0, 86419.7, 153514.11, 0.0],\n",
              "       [1.0, 0.0, 0.0, 76253.86, 113867.3, 298664.47],\n",
              "       [0.0, 0.0, 1.0, 78389.47, 153773.43, 299737.29],\n",
              "       [0.0, 1.0, 0.0, 73994.56, 122782.75, 303319.26],\n",
              "       [0.0, 1.0, 0.0, 67532.53, 105751.03, 304768.73],\n",
              "       [0.0, 0.0, 1.0, 77044.01, 99281.34, 140574.81],\n",
              "       [1.0, 0.0, 0.0, 64664.71, 139553.16, 137962.62],\n",
              "       [0.0, 1.0, 0.0, 75328.87, 144135.98, 134050.07],\n",
              "       [0.0, 0.0, 1.0, 72107.6, 127864.55, 353183.81],\n",
              "       [0.0, 1.0, 0.0, 66051.52, 182645.56, 118148.2],\n",
              "       [0.0, 0.0, 1.0, 65605.48, 153032.06, 107138.38],\n",
              "       [0.0, 1.0, 0.0, 61994.48, 115641.28, 91131.24],\n",
              "       [0.0, 0.0, 1.0, 61136.38, 152701.92, 88218.23],\n",
              "       [1.0, 0.0, 0.0, 63408.86, 129219.61, 46085.25],\n",
              "       [0.0, 1.0, 0.0, 55493.95, 103057.49, 214634.81],\n",
              "       [1.0, 0.0, 0.0, 46426.07, 157693.92, 210797.67],\n",
              "       [0.0, 0.0, 1.0, 46014.02, 85047.44, 205517.64],\n",
              "       [0.0, 1.0, 0.0, 28663.76, 127056.21, 201126.82],\n",
              "       [1.0, 0.0, 0.0, 44069.95, 51283.14, 197029.42],\n",
              "       [0.0, 0.0, 1.0, 20229.59, 65947.93, 185265.1],\n",
              "       [1.0, 0.0, 0.0, 38558.51, 82982.09, 174999.3],\n",
              "       [1.0, 0.0, 0.0, 28754.33, 118546.05, 172795.67],\n",
              "       [0.0, 1.0, 0.0, 27892.92, 84710.77, 164470.71],\n",
              "       [1.0, 0.0, 0.0, 23640.93, 96189.63, 148001.11],\n",
              "       [0.0, 0.0, 1.0, 15505.73, 127382.3, 35534.17],\n",
              "       [1.0, 0.0, 0.0, 22177.74, 154806.14, 28334.72],\n",
              "       [0.0, 0.0, 1.0, 1000.23, 124153.04, 1903.93],\n",
              "       [0.0, 1.0, 0.0, 1315.46, 115816.21, 297114.46],\n",
              "       [1.0, 0.0, 0.0, 0.0, 135426.92, 0.0],\n",
              "       [0.0, 0.0, 1.0, 542.05, 51743.15, 0.0],\n",
              "       [1.0, 0.0, 0.0, 0.0, 116983.8, 45173.06]], dtype=object)"
            ]
          },
          "metadata": {
            "tags": []
          },
          "execution_count": 21
        }
      ]
    },
    {
      "cell_type": "code",
      "metadata": {
        "id": "TmRPb1z1alin",
        "colab_type": "code",
        "colab": {}
      },
      "source": [
        "X = X[:,1:]"
      ],
      "execution_count": 0,
      "outputs": []
    },
    {
      "cell_type": "code",
      "metadata": {
        "id": "OnG_w1J-btZI",
        "colab_type": "code",
        "colab": {
          "base_uri": "https://localhost:8080/",
          "height": 867
        },
        "outputId": "27d3250b-499f-4cd1-ddfc-0c8b67949203"
      },
      "source": [
        "X"
      ],
      "execution_count": 24,
      "outputs": [
        {
          "output_type": "execute_result",
          "data": {
            "text/plain": [
              "array([[0.0, 1.0, 165349.2, 136897.8, 471784.1],\n",
              "       [0.0, 0.0, 162597.7, 151377.59, 443898.53],\n",
              "       [1.0, 0.0, 153441.51, 101145.55, 407934.54],\n",
              "       [0.0, 1.0, 144372.41, 118671.85, 383199.62],\n",
              "       [1.0, 0.0, 142107.34, 91391.77, 366168.42],\n",
              "       [0.0, 1.0, 131876.9, 99814.71, 362861.36],\n",
              "       [0.0, 0.0, 134615.46, 147198.87, 127716.82],\n",
              "       [1.0, 0.0, 130298.13, 145530.06, 323876.68],\n",
              "       [0.0, 1.0, 120542.52, 148718.95, 311613.29],\n",
              "       [0.0, 0.0, 123334.88, 108679.17, 304981.62],\n",
              "       [1.0, 0.0, 101913.08, 110594.11, 229160.95],\n",
              "       [0.0, 0.0, 100671.96, 91790.61, 249744.55],\n",
              "       [1.0, 0.0, 93863.75, 127320.38, 249839.44],\n",
              "       [0.0, 0.0, 91992.39, 135495.07, 252664.93],\n",
              "       [1.0, 0.0, 119943.24, 156547.42, 256512.92],\n",
              "       [0.0, 1.0, 114523.61, 122616.84, 261776.23],\n",
              "       [0.0, 0.0, 78013.11, 121597.55, 264346.06],\n",
              "       [0.0, 1.0, 94657.16, 145077.58, 282574.31],\n",
              "       [1.0, 0.0, 91749.16, 114175.79, 294919.57],\n",
              "       [0.0, 1.0, 86419.7, 153514.11, 0.0],\n",
              "       [0.0, 0.0, 76253.86, 113867.3, 298664.47],\n",
              "       [0.0, 1.0, 78389.47, 153773.43, 299737.29],\n",
              "       [1.0, 0.0, 73994.56, 122782.75, 303319.26],\n",
              "       [1.0, 0.0, 67532.53, 105751.03, 304768.73],\n",
              "       [0.0, 1.0, 77044.01, 99281.34, 140574.81],\n",
              "       [0.0, 0.0, 64664.71, 139553.16, 137962.62],\n",
              "       [1.0, 0.0, 75328.87, 144135.98, 134050.07],\n",
              "       [0.0, 1.0, 72107.6, 127864.55, 353183.81],\n",
              "       [1.0, 0.0, 66051.52, 182645.56, 118148.2],\n",
              "       [0.0, 1.0, 65605.48, 153032.06, 107138.38],\n",
              "       [1.0, 0.0, 61994.48, 115641.28, 91131.24],\n",
              "       [0.0, 1.0, 61136.38, 152701.92, 88218.23],\n",
              "       [0.0, 0.0, 63408.86, 129219.61, 46085.25],\n",
              "       [1.0, 0.0, 55493.95, 103057.49, 214634.81],\n",
              "       [0.0, 0.0, 46426.07, 157693.92, 210797.67],\n",
              "       [0.0, 1.0, 46014.02, 85047.44, 205517.64],\n",
              "       [1.0, 0.0, 28663.76, 127056.21, 201126.82],\n",
              "       [0.0, 0.0, 44069.95, 51283.14, 197029.42],\n",
              "       [0.0, 1.0, 20229.59, 65947.93, 185265.1],\n",
              "       [0.0, 0.0, 38558.51, 82982.09, 174999.3],\n",
              "       [0.0, 0.0, 28754.33, 118546.05, 172795.67],\n",
              "       [1.0, 0.0, 27892.92, 84710.77, 164470.71],\n",
              "       [0.0, 0.0, 23640.93, 96189.63, 148001.11],\n",
              "       [0.0, 1.0, 15505.73, 127382.3, 35534.17],\n",
              "       [0.0, 0.0, 22177.74, 154806.14, 28334.72],\n",
              "       [0.0, 1.0, 1000.23, 124153.04, 1903.93],\n",
              "       [1.0, 0.0, 1315.46, 115816.21, 297114.46],\n",
              "       [0.0, 0.0, 0.0, 135426.92, 0.0],\n",
              "       [0.0, 1.0, 542.05, 51743.15, 0.0],\n",
              "       [0.0, 0.0, 0.0, 116983.8, 45173.06]], dtype=object)"
            ]
          },
          "metadata": {
            "tags": []
          },
          "execution_count": 24
        }
      ]
    },
    {
      "cell_type": "code",
      "metadata": {
        "id": "GnC6zz3XbwtV",
        "colab_type": "code",
        "colab": {}
      },
      "source": [
        ""
      ],
      "execution_count": 0,
      "outputs": []
    },
    {
      "cell_type": "code",
      "metadata": {
        "id": "9TaEamgSS9J9",
        "colab_type": "code",
        "colab": {}
      },
      "source": [
        "#Splitting the dataset into test and train sets\n",
        "\n",
        "from sklearn.model_selection import train_test_split\n",
        "X_train,X_test,Y_train,Y_test = train_test_split(X,Y,test_size=.2,random_state= 0)"
      ],
      "execution_count": 0,
      "outputs": []
    },
    {
      "cell_type": "code",
      "metadata": {
        "id": "-UgUUE-iTLNw",
        "colab_type": "code",
        "colab": {
          "base_uri": "https://localhost:8080/",
          "height": 697
        },
        "outputId": "42d5cd2f-063e-49ca-dfcc-45fc9c098068"
      },
      "source": [
        "X_train"
      ],
      "execution_count": 26,
      "outputs": [
        {
          "output_type": "execute_result",
          "data": {
            "text/plain": [
              "array([[1.0, 0.0, 55493.95, 103057.49, 214634.81],\n",
              "       [0.0, 1.0, 46014.02, 85047.44, 205517.64],\n",
              "       [1.0, 0.0, 75328.87, 144135.98, 134050.07],\n",
              "       [0.0, 0.0, 46426.07, 157693.92, 210797.67],\n",
              "       [1.0, 0.0, 91749.16, 114175.79, 294919.57],\n",
              "       [1.0, 0.0, 130298.13, 145530.06, 323876.68],\n",
              "       [1.0, 0.0, 119943.24, 156547.42, 256512.92],\n",
              "       [0.0, 1.0, 1000.23, 124153.04, 1903.93],\n",
              "       [0.0, 1.0, 542.05, 51743.15, 0.0],\n",
              "       [0.0, 1.0, 65605.48, 153032.06, 107138.38],\n",
              "       [0.0, 1.0, 114523.61, 122616.84, 261776.23],\n",
              "       [1.0, 0.0, 61994.48, 115641.28, 91131.24],\n",
              "       [0.0, 0.0, 63408.86, 129219.61, 46085.25],\n",
              "       [0.0, 0.0, 78013.11, 121597.55, 264346.06],\n",
              "       [0.0, 0.0, 23640.93, 96189.63, 148001.11],\n",
              "       [0.0, 0.0, 76253.86, 113867.3, 298664.47],\n",
              "       [0.0, 1.0, 15505.73, 127382.3, 35534.17],\n",
              "       [0.0, 1.0, 120542.52, 148718.95, 311613.29],\n",
              "       [0.0, 0.0, 91992.39, 135495.07, 252664.93],\n",
              "       [0.0, 0.0, 64664.71, 139553.16, 137962.62],\n",
              "       [0.0, 1.0, 131876.9, 99814.71, 362861.36],\n",
              "       [0.0, 1.0, 94657.16, 145077.58, 282574.31],\n",
              "       [0.0, 0.0, 28754.33, 118546.05, 172795.67],\n",
              "       [0.0, 0.0, 0.0, 116983.8, 45173.06],\n",
              "       [0.0, 0.0, 162597.7, 151377.59, 443898.53],\n",
              "       [1.0, 0.0, 93863.75, 127320.38, 249839.44],\n",
              "       [0.0, 0.0, 44069.95, 51283.14, 197029.42],\n",
              "       [0.0, 1.0, 77044.01, 99281.34, 140574.81],\n",
              "       [0.0, 0.0, 134615.46, 147198.87, 127716.82],\n",
              "       [1.0, 0.0, 67532.53, 105751.03, 304768.73],\n",
              "       [1.0, 0.0, 28663.76, 127056.21, 201126.82],\n",
              "       [0.0, 1.0, 78389.47, 153773.43, 299737.29],\n",
              "       [0.0, 1.0, 86419.7, 153514.11, 0.0],\n",
              "       [0.0, 0.0, 123334.88, 108679.17, 304981.62],\n",
              "       [0.0, 0.0, 38558.51, 82982.09, 174999.3],\n",
              "       [1.0, 0.0, 1315.46, 115816.21, 297114.46],\n",
              "       [0.0, 1.0, 144372.41, 118671.85, 383199.62],\n",
              "       [0.0, 1.0, 165349.2, 136897.8, 471784.1],\n",
              "       [0.0, 0.0, 0.0, 135426.92, 0.0],\n",
              "       [0.0, 0.0, 22177.74, 154806.14, 28334.72]], dtype=object)"
            ]
          },
          "metadata": {
            "tags": []
          },
          "execution_count": 26
        }
      ]
    },
    {
      "cell_type": "code",
      "metadata": {
        "id": "VEJ3sGFiTQgs",
        "colab_type": "code",
        "colab": {
          "base_uri": "https://localhost:8080/",
          "height": 187
        },
        "outputId": "91b5b0dc-8950-46ad-d3d3-ac2bfc0944dc"
      },
      "source": [
        "X_test"
      ],
      "execution_count": 27,
      "outputs": [
        {
          "output_type": "execute_result",
          "data": {
            "text/plain": [
              "array([[1.0, 0.0, 66051.52, 182645.56, 118148.2],\n",
              "       [0.0, 0.0, 100671.96, 91790.61, 249744.55],\n",
              "       [1.0, 0.0, 101913.08, 110594.11, 229160.95],\n",
              "       [1.0, 0.0, 27892.92, 84710.77, 164470.71],\n",
              "       [1.0, 0.0, 153441.51, 101145.55, 407934.54],\n",
              "       [0.0, 1.0, 72107.6, 127864.55, 353183.81],\n",
              "       [0.0, 1.0, 20229.59, 65947.93, 185265.1],\n",
              "       [0.0, 1.0, 61136.38, 152701.92, 88218.23],\n",
              "       [1.0, 0.0, 73994.56, 122782.75, 303319.26],\n",
              "       [1.0, 0.0, 142107.34, 91391.77, 366168.42]], dtype=object)"
            ]
          },
          "metadata": {
            "tags": []
          },
          "execution_count": 27
        }
      ]
    },
    {
      "cell_type": "code",
      "metadata": {
        "id": "OtIa7YZYTSFd",
        "colab_type": "code",
        "colab": {
          "base_uri": "https://localhost:8080/",
          "height": 136
        },
        "outputId": "4046ae34-8632-4a4e-cecf-12e23cfd9a99"
      },
      "source": [
        "Y_train"
      ],
      "execution_count": 28,
      "outputs": [
        {
          "output_type": "execute_result",
          "data": {
            "text/plain": [
              "array([ 96778.92,  96479.51, 105733.54,  96712.8 , 124266.9 , 155752.6 ,\n",
              "       132602.65,  64926.08,  35673.41, 101004.64, 129917.04,  99937.59,\n",
              "        97427.84, 126992.93,  71498.49, 118474.03,  69758.98, 152211.77,\n",
              "       134307.35, 107404.34, 156991.12, 125370.37,  78239.91,  14681.4 ,\n",
              "       191792.06, 141585.52,  89949.14, 108552.04, 156122.51, 108733.99,\n",
              "        90708.19, 111313.02, 122776.86, 149759.96,  81005.76,  49490.75,\n",
              "       182901.99, 192261.83,  42559.73,  65200.33])"
            ]
          },
          "metadata": {
            "tags": []
          },
          "execution_count": 28
        }
      ]
    },
    {
      "cell_type": "code",
      "metadata": {
        "id": "75cJp56qTXSE",
        "colab_type": "code",
        "colab": {
          "base_uri": "https://localhost:8080/",
          "height": 51
        },
        "outputId": "6c241c31-75c3-4a2b-b7b4-69df43b3875d"
      },
      "source": [
        "Y_test"
      ],
      "execution_count": 29,
      "outputs": [
        {
          "output_type": "execute_result",
          "data": {
            "text/plain": [
              "array([103282.38, 144259.4 , 146121.95,  77798.83, 191050.39, 105008.31,\n",
              "        81229.06,  97483.56, 110352.25, 166187.94])"
            ]
          },
          "metadata": {
            "tags": []
          },
          "execution_count": 29
        }
      ]
    },
    {
      "cell_type": "code",
      "metadata": {
        "id": "aiGWsk48TZ-s",
        "colab_type": "code",
        "colab": {
          "base_uri": "https://localhost:8080/",
          "height": 34
        },
        "outputId": "8de0f299-7e06-4971-bcce-f0be434325c4"
      },
      "source": [
        "#Fiiting the multiple linear regressor onto the training set\n",
        "from sklearn.linear_model import LinearRegression\n",
        "regressor = LinearRegression()\n",
        "regressor.fit(X_train,Y_train)"
      ],
      "execution_count": 31,
      "outputs": [
        {
          "output_type": "execute_result",
          "data": {
            "text/plain": [
              "LinearRegression(copy_X=True, fit_intercept=True, n_jobs=None, normalize=False)"
            ]
          },
          "metadata": {
            "tags": []
          },
          "execution_count": 31
        }
      ]
    },
    {
      "cell_type": "code",
      "metadata": {
        "id": "DUYETQsiecn7",
        "colab_type": "code",
        "colab": {}
      },
      "source": [
        " Y_pred = regressor.predict(X_test)"
      ],
      "execution_count": 0,
      "outputs": []
    },
    {
      "cell_type": "code",
      "metadata": {
        "id": "QoYbc6-cfrxU",
        "colab_type": "code",
        "colab": {
          "base_uri": "https://localhost:8080/",
          "height": 68
        },
        "outputId": "0dce39c3-dd6d-4cd2-c1a8-6368f1a93be8"
      },
      "source": [
        "Y_pred"
      ],
      "execution_count": 33,
      "outputs": [
        {
          "output_type": "execute_result",
          "data": {
            "text/plain": [
              "array([103015.20159796, 132582.27760816, 132447.73845175,  71976.09851259,\n",
              "       178537.48221054, 116161.24230163,  67851.69209676,  98791.73374688,\n",
              "       113969.43533012, 167921.0656955 ])"
            ]
          },
          "metadata": {
            "tags": []
          },
          "execution_count": 33
        }
      ]
    },
    {
      "cell_type": "code",
      "metadata": {
        "id": "1_zVSN1Gpjtj",
        "colab_type": "code",
        "colab": {}
      },
      "source": [
        "#Building the optimal model using Backward Elimination\n",
        "\n",
        "\n",
        "X = np.append(arr=np.ones((50,1),dtype=\"int\"), values=X, axis=1)"
      ],
      "execution_count": 0,
      "outputs": []
    },
    {
      "cell_type": "code",
      "metadata": {
        "id": "GO3sEOOGqJBg",
        "colab_type": "code",
        "colab": {
          "base_uri": "https://localhost:8080/",
          "height": 867
        },
        "outputId": "2f9d871a-ce3d-44e9-d1d8-3e82f141ec84"
      },
      "source": [
        "X"
      ],
      "execution_count": 35,
      "outputs": [
        {
          "output_type": "execute_result",
          "data": {
            "text/plain": [
              "array([[1, 0.0, 1.0, 165349.2, 136897.8, 471784.1],\n",
              "       [1, 0.0, 0.0, 162597.7, 151377.59, 443898.53],\n",
              "       [1, 1.0, 0.0, 153441.51, 101145.55, 407934.54],\n",
              "       [1, 0.0, 1.0, 144372.41, 118671.85, 383199.62],\n",
              "       [1, 1.0, 0.0, 142107.34, 91391.77, 366168.42],\n",
              "       [1, 0.0, 1.0, 131876.9, 99814.71, 362861.36],\n",
              "       [1, 0.0, 0.0, 134615.46, 147198.87, 127716.82],\n",
              "       [1, 1.0, 0.0, 130298.13, 145530.06, 323876.68],\n",
              "       [1, 0.0, 1.0, 120542.52, 148718.95, 311613.29],\n",
              "       [1, 0.0, 0.0, 123334.88, 108679.17, 304981.62],\n",
              "       [1, 1.0, 0.0, 101913.08, 110594.11, 229160.95],\n",
              "       [1, 0.0, 0.0, 100671.96, 91790.61, 249744.55],\n",
              "       [1, 1.0, 0.0, 93863.75, 127320.38, 249839.44],\n",
              "       [1, 0.0, 0.0, 91992.39, 135495.07, 252664.93],\n",
              "       [1, 1.0, 0.0, 119943.24, 156547.42, 256512.92],\n",
              "       [1, 0.0, 1.0, 114523.61, 122616.84, 261776.23],\n",
              "       [1, 0.0, 0.0, 78013.11, 121597.55, 264346.06],\n",
              "       [1, 0.0, 1.0, 94657.16, 145077.58, 282574.31],\n",
              "       [1, 1.0, 0.0, 91749.16, 114175.79, 294919.57],\n",
              "       [1, 0.0, 1.0, 86419.7, 153514.11, 0.0],\n",
              "       [1, 0.0, 0.0, 76253.86, 113867.3, 298664.47],\n",
              "       [1, 0.0, 1.0, 78389.47, 153773.43, 299737.29],\n",
              "       [1, 1.0, 0.0, 73994.56, 122782.75, 303319.26],\n",
              "       [1, 1.0, 0.0, 67532.53, 105751.03, 304768.73],\n",
              "       [1, 0.0, 1.0, 77044.01, 99281.34, 140574.81],\n",
              "       [1, 0.0, 0.0, 64664.71, 139553.16, 137962.62],\n",
              "       [1, 1.0, 0.0, 75328.87, 144135.98, 134050.07],\n",
              "       [1, 0.0, 1.0, 72107.6, 127864.55, 353183.81],\n",
              "       [1, 1.0, 0.0, 66051.52, 182645.56, 118148.2],\n",
              "       [1, 0.0, 1.0, 65605.48, 153032.06, 107138.38],\n",
              "       [1, 1.0, 0.0, 61994.48, 115641.28, 91131.24],\n",
              "       [1, 0.0, 1.0, 61136.38, 152701.92, 88218.23],\n",
              "       [1, 0.0, 0.0, 63408.86, 129219.61, 46085.25],\n",
              "       [1, 1.0, 0.0, 55493.95, 103057.49, 214634.81],\n",
              "       [1, 0.0, 0.0, 46426.07, 157693.92, 210797.67],\n",
              "       [1, 0.0, 1.0, 46014.02, 85047.44, 205517.64],\n",
              "       [1, 1.0, 0.0, 28663.76, 127056.21, 201126.82],\n",
              "       [1, 0.0, 0.0, 44069.95, 51283.14, 197029.42],\n",
              "       [1, 0.0, 1.0, 20229.59, 65947.93, 185265.1],\n",
              "       [1, 0.0, 0.0, 38558.51, 82982.09, 174999.3],\n",
              "       [1, 0.0, 0.0, 28754.33, 118546.05, 172795.67],\n",
              "       [1, 1.0, 0.0, 27892.92, 84710.77, 164470.71],\n",
              "       [1, 0.0, 0.0, 23640.93, 96189.63, 148001.11],\n",
              "       [1, 0.0, 1.0, 15505.73, 127382.3, 35534.17],\n",
              "       [1, 0.0, 0.0, 22177.74, 154806.14, 28334.72],\n",
              "       [1, 0.0, 1.0, 1000.23, 124153.04, 1903.93],\n",
              "       [1, 1.0, 0.0, 1315.46, 115816.21, 297114.46],\n",
              "       [1, 0.0, 0.0, 0.0, 135426.92, 0.0],\n",
              "       [1, 0.0, 1.0, 542.05, 51743.15, 0.0],\n",
              "       [1, 0.0, 0.0, 0.0, 116983.8, 45173.06]], dtype=object)"
            ]
          },
          "metadata": {
            "tags": []
          },
          "execution_count": 35
        }
      ]
    },
    {
      "cell_type": "code",
      "metadata": {
        "id": "QFyrsKzHqMLe",
        "colab_type": "code",
        "colab": {
          "base_uri": "https://localhost:8080/",
          "height": 562
        },
        "outputId": "b3363ecc-2633-49c7-803b-34761126acf3"
      },
      "source": [
        "import statsmodels.api as sm\n",
        "X_opt = np.array(X[:, [0, 1, 2, 3, 4, 5]], dtype=\"float\")\n",
        "regressor_OLS = sm.OLS(exog=X_opt,endog=Y).fit()\n",
        "regressor_OLS.summary()"
      ],
      "execution_count": 41,
      "outputs": [
        {
          "output_type": "execute_result",
          "data": {
            "text/html": [
              "<table class=\"simpletable\">\n",
              "<caption>OLS Regression Results</caption>\n",
              "<tr>\n",
              "  <th>Dep. Variable:</th>            <td>y</td>        <th>  R-squared:         </th> <td>   0.951</td>\n",
              "</tr>\n",
              "<tr>\n",
              "  <th>Model:</th>                   <td>OLS</td>       <th>  Adj. R-squared:    </th> <td>   0.945</td>\n",
              "</tr>\n",
              "<tr>\n",
              "  <th>Method:</th>             <td>Least Squares</td>  <th>  F-statistic:       </th> <td>   169.9</td>\n",
              "</tr>\n",
              "<tr>\n",
              "  <th>Date:</th>             <td>Fri, 29 May 2020</td> <th>  Prob (F-statistic):</th> <td>1.34e-27</td>\n",
              "</tr>\n",
              "<tr>\n",
              "  <th>Time:</th>                 <td>18:55:42</td>     <th>  Log-Likelihood:    </th> <td> -525.38</td>\n",
              "</tr>\n",
              "<tr>\n",
              "  <th>No. Observations:</th>      <td>    50</td>      <th>  AIC:               </th> <td>   1063.</td>\n",
              "</tr>\n",
              "<tr>\n",
              "  <th>Df Residuals:</th>          <td>    44</td>      <th>  BIC:               </th> <td>   1074.</td>\n",
              "</tr>\n",
              "<tr>\n",
              "  <th>Df Model:</th>              <td>     5</td>      <th>                     </th>     <td> </td>   \n",
              "</tr>\n",
              "<tr>\n",
              "  <th>Covariance Type:</th>      <td>nonrobust</td>    <th>                     </th>     <td> </td>   \n",
              "</tr>\n",
              "</table>\n",
              "<table class=\"simpletable\">\n",
              "<tr>\n",
              "    <td></td>       <th>coef</th>     <th>std err</th>      <th>t</th>      <th>P>|t|</th>  <th>[0.025</th>    <th>0.975]</th>  \n",
              "</tr>\n",
              "<tr>\n",
              "  <th>const</th> <td> 5.013e+04</td> <td> 6884.820</td> <td>    7.281</td> <td> 0.000</td> <td> 3.62e+04</td> <td>  6.4e+04</td>\n",
              "</tr>\n",
              "<tr>\n",
              "  <th>x1</th>    <td>  198.7888</td> <td> 3371.007</td> <td>    0.059</td> <td> 0.953</td> <td>-6595.030</td> <td> 6992.607</td>\n",
              "</tr>\n",
              "<tr>\n",
              "  <th>x2</th>    <td>  -41.8870</td> <td> 3256.039</td> <td>   -0.013</td> <td> 0.990</td> <td>-6604.003</td> <td> 6520.229</td>\n",
              "</tr>\n",
              "<tr>\n",
              "  <th>x3</th>    <td>    0.8060</td> <td>    0.046</td> <td>   17.369</td> <td> 0.000</td> <td>    0.712</td> <td>    0.900</td>\n",
              "</tr>\n",
              "<tr>\n",
              "  <th>x4</th>    <td>   -0.0270</td> <td>    0.052</td> <td>   -0.517</td> <td> 0.608</td> <td>   -0.132</td> <td>    0.078</td>\n",
              "</tr>\n",
              "<tr>\n",
              "  <th>x5</th>    <td>    0.0270</td> <td>    0.017</td> <td>    1.574</td> <td> 0.123</td> <td>   -0.008</td> <td>    0.062</td>\n",
              "</tr>\n",
              "</table>\n",
              "<table class=\"simpletable\">\n",
              "<tr>\n",
              "  <th>Omnibus:</th>       <td>14.782</td> <th>  Durbin-Watson:     </th> <td>   1.283</td>\n",
              "</tr>\n",
              "<tr>\n",
              "  <th>Prob(Omnibus):</th> <td> 0.001</td> <th>  Jarque-Bera (JB):  </th> <td>  21.266</td>\n",
              "</tr>\n",
              "<tr>\n",
              "  <th>Skew:</th>          <td>-0.948</td> <th>  Prob(JB):          </th> <td>2.41e-05</td>\n",
              "</tr>\n",
              "<tr>\n",
              "  <th>Kurtosis:</th>      <td> 5.572</td> <th>  Cond. No.          </th> <td>1.45e+06</td>\n",
              "</tr>\n",
              "</table><br/><br/>Warnings:<br/>[1] Standard Errors assume that the covariance matrix of the errors is correctly specified.<br/>[2] The condition number is large, 1.45e+06. This might indicate that there are<br/>strong multicollinearity or other numerical problems."
            ],
            "text/plain": [
              "<class 'statsmodels.iolib.summary.Summary'>\n",
              "\"\"\"\n",
              "                            OLS Regression Results                            \n",
              "==============================================================================\n",
              "Dep. Variable:                      y   R-squared:                       0.951\n",
              "Model:                            OLS   Adj. R-squared:                  0.945\n",
              "Method:                 Least Squares   F-statistic:                     169.9\n",
              "Date:                Fri, 29 May 2020   Prob (F-statistic):           1.34e-27\n",
              "Time:                        18:55:42   Log-Likelihood:                -525.38\n",
              "No. Observations:                  50   AIC:                             1063.\n",
              "Df Residuals:                      44   BIC:                             1074.\n",
              "Df Model:                           5                                         \n",
              "Covariance Type:            nonrobust                                         \n",
              "==============================================================================\n",
              "                 coef    std err          t      P>|t|      [0.025      0.975]\n",
              "------------------------------------------------------------------------------\n",
              "const       5.013e+04   6884.820      7.281      0.000    3.62e+04     6.4e+04\n",
              "x1           198.7888   3371.007      0.059      0.953   -6595.030    6992.607\n",
              "x2           -41.8870   3256.039     -0.013      0.990   -6604.003    6520.229\n",
              "x3             0.8060      0.046     17.369      0.000       0.712       0.900\n",
              "x4            -0.0270      0.052     -0.517      0.608      -0.132       0.078\n",
              "x5             0.0270      0.017      1.574      0.123      -0.008       0.062\n",
              "==============================================================================\n",
              "Omnibus:                       14.782   Durbin-Watson:                   1.283\n",
              "Prob(Omnibus):                  0.001   Jarque-Bera (JB):               21.266\n",
              "Skew:                          -0.948   Prob(JB):                     2.41e-05\n",
              "Kurtosis:                       5.572   Cond. No.                     1.45e+06\n",
              "==============================================================================\n",
              "\n",
              "Warnings:\n",
              "[1] Standard Errors assume that the covariance matrix of the errors is correctly specified.\n",
              "[2] The condition number is large, 1.45e+06. This might indicate that there are\n",
              "strong multicollinearity or other numerical problems.\n",
              "\"\"\""
            ]
          },
          "metadata": {
            "tags": []
          },
          "execution_count": 41
        }
      ]
    },
    {
      "cell_type": "code",
      "metadata": {
        "id": "AfiLzcuD15Zu",
        "colab_type": "code",
        "colab": {
          "base_uri": "https://localhost:8080/",
          "height": 541
        },
        "outputId": "d51310e4-e4ae-4535-cdef-e2d14696e04f"
      },
      "source": [
        "X_opt = np.array(X[:, [0, 1, 3, 4, 5]], dtype=\"float\")\n",
        "regressor_OLS = sm.OLS(exog=X_opt,endog=Y).fit()\n",
        "regressor_OLS.summary()"
      ],
      "execution_count": 42,
      "outputs": [
        {
          "output_type": "execute_result",
          "data": {
            "text/html": [
              "<table class=\"simpletable\">\n",
              "<caption>OLS Regression Results</caption>\n",
              "<tr>\n",
              "  <th>Dep. Variable:</th>            <td>y</td>        <th>  R-squared:         </th> <td>   0.951</td>\n",
              "</tr>\n",
              "<tr>\n",
              "  <th>Model:</th>                   <td>OLS</td>       <th>  Adj. R-squared:    </th> <td>   0.946</td>\n",
              "</tr>\n",
              "<tr>\n",
              "  <th>Method:</th>             <td>Least Squares</td>  <th>  F-statistic:       </th> <td>   217.2</td>\n",
              "</tr>\n",
              "<tr>\n",
              "  <th>Date:</th>             <td>Fri, 29 May 2020</td> <th>  Prob (F-statistic):</th> <td>8.49e-29</td>\n",
              "</tr>\n",
              "<tr>\n",
              "  <th>Time:</th>                 <td>19:12:46</td>     <th>  Log-Likelihood:    </th> <td> -525.38</td>\n",
              "</tr>\n",
              "<tr>\n",
              "  <th>No. Observations:</th>      <td>    50</td>      <th>  AIC:               </th> <td>   1061.</td>\n",
              "</tr>\n",
              "<tr>\n",
              "  <th>Df Residuals:</th>          <td>    45</td>      <th>  BIC:               </th> <td>   1070.</td>\n",
              "</tr>\n",
              "<tr>\n",
              "  <th>Df Model:</th>              <td>     4</td>      <th>                     </th>     <td> </td>   \n",
              "</tr>\n",
              "<tr>\n",
              "  <th>Covariance Type:</th>      <td>nonrobust</td>    <th>                     </th>     <td> </td>   \n",
              "</tr>\n",
              "</table>\n",
              "<table class=\"simpletable\">\n",
              "<tr>\n",
              "    <td></td>       <th>coef</th>     <th>std err</th>      <th>t</th>      <th>P>|t|</th>  <th>[0.025</th>    <th>0.975]</th>  \n",
              "</tr>\n",
              "<tr>\n",
              "  <th>const</th> <td> 5.011e+04</td> <td> 6647.870</td> <td>    7.537</td> <td> 0.000</td> <td> 3.67e+04</td> <td> 6.35e+04</td>\n",
              "</tr>\n",
              "<tr>\n",
              "  <th>x1</th>    <td>  220.1585</td> <td> 2900.536</td> <td>    0.076</td> <td> 0.940</td> <td>-5621.821</td> <td> 6062.138</td>\n",
              "</tr>\n",
              "<tr>\n",
              "  <th>x2</th>    <td>    0.8060</td> <td>    0.046</td> <td>   17.606</td> <td> 0.000</td> <td>    0.714</td> <td>    0.898</td>\n",
              "</tr>\n",
              "<tr>\n",
              "  <th>x3</th>    <td>   -0.0270</td> <td>    0.052</td> <td>   -0.523</td> <td> 0.604</td> <td>   -0.131</td> <td>    0.077</td>\n",
              "</tr>\n",
              "<tr>\n",
              "  <th>x4</th>    <td>    0.0270</td> <td>    0.017</td> <td>    1.592</td> <td> 0.118</td> <td>   -0.007</td> <td>    0.061</td>\n",
              "</tr>\n",
              "</table>\n",
              "<table class=\"simpletable\">\n",
              "<tr>\n",
              "  <th>Omnibus:</th>       <td>14.758</td> <th>  Durbin-Watson:     </th> <td>   1.282</td>\n",
              "</tr>\n",
              "<tr>\n",
              "  <th>Prob(Omnibus):</th> <td> 0.001</td> <th>  Jarque-Bera (JB):  </th> <td>  21.172</td>\n",
              "</tr>\n",
              "<tr>\n",
              "  <th>Skew:</th>          <td>-0.948</td> <th>  Prob(JB):          </th> <td>2.53e-05</td>\n",
              "</tr>\n",
              "<tr>\n",
              "  <th>Kurtosis:</th>      <td> 5.563</td> <th>  Cond. No.          </th> <td>1.40e+06</td>\n",
              "</tr>\n",
              "</table><br/><br/>Warnings:<br/>[1] Standard Errors assume that the covariance matrix of the errors is correctly specified.<br/>[2] The condition number is large, 1.4e+06. This might indicate that there are<br/>strong multicollinearity or other numerical problems."
            ],
            "text/plain": [
              "<class 'statsmodels.iolib.summary.Summary'>\n",
              "\"\"\"\n",
              "                            OLS Regression Results                            \n",
              "==============================================================================\n",
              "Dep. Variable:                      y   R-squared:                       0.951\n",
              "Model:                            OLS   Adj. R-squared:                  0.946\n",
              "Method:                 Least Squares   F-statistic:                     217.2\n",
              "Date:                Fri, 29 May 2020   Prob (F-statistic):           8.49e-29\n",
              "Time:                        19:12:46   Log-Likelihood:                -525.38\n",
              "No. Observations:                  50   AIC:                             1061.\n",
              "Df Residuals:                      45   BIC:                             1070.\n",
              "Df Model:                           4                                         \n",
              "Covariance Type:            nonrobust                                         \n",
              "==============================================================================\n",
              "                 coef    std err          t      P>|t|      [0.025      0.975]\n",
              "------------------------------------------------------------------------------\n",
              "const       5.011e+04   6647.870      7.537      0.000    3.67e+04    6.35e+04\n",
              "x1           220.1585   2900.536      0.076      0.940   -5621.821    6062.138\n",
              "x2             0.8060      0.046     17.606      0.000       0.714       0.898\n",
              "x3            -0.0270      0.052     -0.523      0.604      -0.131       0.077\n",
              "x4             0.0270      0.017      1.592      0.118      -0.007       0.061\n",
              "==============================================================================\n",
              "Omnibus:                       14.758   Durbin-Watson:                   1.282\n",
              "Prob(Omnibus):                  0.001   Jarque-Bera (JB):               21.172\n",
              "Skew:                          -0.948   Prob(JB):                     2.53e-05\n",
              "Kurtosis:                       5.563   Cond. No.                     1.40e+06\n",
              "==============================================================================\n",
              "\n",
              "Warnings:\n",
              "[1] Standard Errors assume that the covariance matrix of the errors is correctly specified.\n",
              "[2] The condition number is large, 1.4e+06. This might indicate that there are\n",
              "strong multicollinearity or other numerical problems.\n",
              "\"\"\""
            ]
          },
          "metadata": {
            "tags": []
          },
          "execution_count": 42
        }
      ]
    },
    {
      "cell_type": "code",
      "metadata": {
        "id": "j5CK9pun2ihS",
        "colab_type": "code",
        "colab": {
          "base_uri": "https://localhost:8080/",
          "height": 520
        },
        "outputId": "780a7bb5-d041-4969-c682-1ecd4082562a"
      },
      "source": [
        "X_opt = np.array(X[:, [0,3, 4, 5]], dtype=\"float\")\n",
        "regressor_OLS = sm.OLS(exog=X_opt,endog=Y).fit()\n",
        "regressor_OLS.summary()"
      ],
      "execution_count": 43,
      "outputs": [
        {
          "output_type": "execute_result",
          "data": {
            "text/html": [
              "<table class=\"simpletable\">\n",
              "<caption>OLS Regression Results</caption>\n",
              "<tr>\n",
              "  <th>Dep. Variable:</th>            <td>y</td>        <th>  R-squared:         </th> <td>   0.951</td>\n",
              "</tr>\n",
              "<tr>\n",
              "  <th>Model:</th>                   <td>OLS</td>       <th>  Adj. R-squared:    </th> <td>   0.948</td>\n",
              "</tr>\n",
              "<tr>\n",
              "  <th>Method:</th>             <td>Least Squares</td>  <th>  F-statistic:       </th> <td>   296.0</td>\n",
              "</tr>\n",
              "<tr>\n",
              "  <th>Date:</th>             <td>Fri, 29 May 2020</td> <th>  Prob (F-statistic):</th> <td>4.53e-30</td>\n",
              "</tr>\n",
              "<tr>\n",
              "  <th>Time:</th>                 <td>19:13:27</td>     <th>  Log-Likelihood:    </th> <td> -525.39</td>\n",
              "</tr>\n",
              "<tr>\n",
              "  <th>No. Observations:</th>      <td>    50</td>      <th>  AIC:               </th> <td>   1059.</td>\n",
              "</tr>\n",
              "<tr>\n",
              "  <th>Df Residuals:</th>          <td>    46</td>      <th>  BIC:               </th> <td>   1066.</td>\n",
              "</tr>\n",
              "<tr>\n",
              "  <th>Df Model:</th>              <td>     3</td>      <th>                     </th>     <td> </td>   \n",
              "</tr>\n",
              "<tr>\n",
              "  <th>Covariance Type:</th>      <td>nonrobust</td>    <th>                     </th>     <td> </td>   \n",
              "</tr>\n",
              "</table>\n",
              "<table class=\"simpletable\">\n",
              "<tr>\n",
              "    <td></td>       <th>coef</th>     <th>std err</th>      <th>t</th>      <th>P>|t|</th>  <th>[0.025</th>    <th>0.975]</th>  \n",
              "</tr>\n",
              "<tr>\n",
              "  <th>const</th> <td> 5.012e+04</td> <td> 6572.353</td> <td>    7.626</td> <td> 0.000</td> <td> 3.69e+04</td> <td> 6.34e+04</td>\n",
              "</tr>\n",
              "<tr>\n",
              "  <th>x1</th>    <td>    0.8057</td> <td>    0.045</td> <td>   17.846</td> <td> 0.000</td> <td>    0.715</td> <td>    0.897</td>\n",
              "</tr>\n",
              "<tr>\n",
              "  <th>x2</th>    <td>   -0.0268</td> <td>    0.051</td> <td>   -0.526</td> <td> 0.602</td> <td>   -0.130</td> <td>    0.076</td>\n",
              "</tr>\n",
              "<tr>\n",
              "  <th>x3</th>    <td>    0.0272</td> <td>    0.016</td> <td>    1.655</td> <td> 0.105</td> <td>   -0.006</td> <td>    0.060</td>\n",
              "</tr>\n",
              "</table>\n",
              "<table class=\"simpletable\">\n",
              "<tr>\n",
              "  <th>Omnibus:</th>       <td>14.838</td> <th>  Durbin-Watson:     </th> <td>   1.282</td>\n",
              "</tr>\n",
              "<tr>\n",
              "  <th>Prob(Omnibus):</th> <td> 0.001</td> <th>  Jarque-Bera (JB):  </th> <td>  21.442</td>\n",
              "</tr>\n",
              "<tr>\n",
              "  <th>Skew:</th>          <td>-0.949</td> <th>  Prob(JB):          </th> <td>2.21e-05</td>\n",
              "</tr>\n",
              "<tr>\n",
              "  <th>Kurtosis:</th>      <td> 5.586</td> <th>  Cond. No.          </th> <td>1.40e+06</td>\n",
              "</tr>\n",
              "</table><br/><br/>Warnings:<br/>[1] Standard Errors assume that the covariance matrix of the errors is correctly specified.<br/>[2] The condition number is large, 1.4e+06. This might indicate that there are<br/>strong multicollinearity or other numerical problems."
            ],
            "text/plain": [
              "<class 'statsmodels.iolib.summary.Summary'>\n",
              "\"\"\"\n",
              "                            OLS Regression Results                            \n",
              "==============================================================================\n",
              "Dep. Variable:                      y   R-squared:                       0.951\n",
              "Model:                            OLS   Adj. R-squared:                  0.948\n",
              "Method:                 Least Squares   F-statistic:                     296.0\n",
              "Date:                Fri, 29 May 2020   Prob (F-statistic):           4.53e-30\n",
              "Time:                        19:13:27   Log-Likelihood:                -525.39\n",
              "No. Observations:                  50   AIC:                             1059.\n",
              "Df Residuals:                      46   BIC:                             1066.\n",
              "Df Model:                           3                                         \n",
              "Covariance Type:            nonrobust                                         \n",
              "==============================================================================\n",
              "                 coef    std err          t      P>|t|      [0.025      0.975]\n",
              "------------------------------------------------------------------------------\n",
              "const       5.012e+04   6572.353      7.626      0.000    3.69e+04    6.34e+04\n",
              "x1             0.8057      0.045     17.846      0.000       0.715       0.897\n",
              "x2            -0.0268      0.051     -0.526      0.602      -0.130       0.076\n",
              "x3             0.0272      0.016      1.655      0.105      -0.006       0.060\n",
              "==============================================================================\n",
              "Omnibus:                       14.838   Durbin-Watson:                   1.282\n",
              "Prob(Omnibus):                  0.001   Jarque-Bera (JB):               21.442\n",
              "Skew:                          -0.949   Prob(JB):                     2.21e-05\n",
              "Kurtosis:                       5.586   Cond. No.                     1.40e+06\n",
              "==============================================================================\n",
              "\n",
              "Warnings:\n",
              "[1] Standard Errors assume that the covariance matrix of the errors is correctly specified.\n",
              "[2] The condition number is large, 1.4e+06. This might indicate that there are\n",
              "strong multicollinearity or other numerical problems.\n",
              "\"\"\""
            ]
          },
          "metadata": {
            "tags": []
          },
          "execution_count": 43
        }
      ]
    },
    {
      "cell_type": "code",
      "metadata": {
        "id": "iuL74IBj2rpg",
        "colab_type": "code",
        "colab": {
          "base_uri": "https://localhost:8080/",
          "height": 499
        },
        "outputId": "7d25dd5e-25cd-41f9-cf0f-259b128298df"
      },
      "source": [
        "X_opt = np.array(X[:, [0,3,5]], dtype=\"float\")\n",
        "regressor_OLS = sm.OLS(exog=X_opt,endog=Y).fit()\n",
        "regressor_OLS.summary()"
      ],
      "execution_count": 44,
      "outputs": [
        {
          "output_type": "execute_result",
          "data": {
            "text/html": [
              "<table class=\"simpletable\">\n",
              "<caption>OLS Regression Results</caption>\n",
              "<tr>\n",
              "  <th>Dep. Variable:</th>            <td>y</td>        <th>  R-squared:         </th> <td>   0.950</td>\n",
              "</tr>\n",
              "<tr>\n",
              "  <th>Model:</th>                   <td>OLS</td>       <th>  Adj. R-squared:    </th> <td>   0.948</td>\n",
              "</tr>\n",
              "<tr>\n",
              "  <th>Method:</th>             <td>Least Squares</td>  <th>  F-statistic:       </th> <td>   450.8</td>\n",
              "</tr>\n",
              "<tr>\n",
              "  <th>Date:</th>             <td>Fri, 29 May 2020</td> <th>  Prob (F-statistic):</th> <td>2.16e-31</td>\n",
              "</tr>\n",
              "<tr>\n",
              "  <th>Time:</th>                 <td>19:14:21</td>     <th>  Log-Likelihood:    </th> <td> -525.54</td>\n",
              "</tr>\n",
              "<tr>\n",
              "  <th>No. Observations:</th>      <td>    50</td>      <th>  AIC:               </th> <td>   1057.</td>\n",
              "</tr>\n",
              "<tr>\n",
              "  <th>Df Residuals:</th>          <td>    47</td>      <th>  BIC:               </th> <td>   1063.</td>\n",
              "</tr>\n",
              "<tr>\n",
              "  <th>Df Model:</th>              <td>     2</td>      <th>                     </th>     <td> </td>   \n",
              "</tr>\n",
              "<tr>\n",
              "  <th>Covariance Type:</th>      <td>nonrobust</td>    <th>                     </th>     <td> </td>   \n",
              "</tr>\n",
              "</table>\n",
              "<table class=\"simpletable\">\n",
              "<tr>\n",
              "    <td></td>       <th>coef</th>     <th>std err</th>      <th>t</th>      <th>P>|t|</th>  <th>[0.025</th>    <th>0.975]</th>  \n",
              "</tr>\n",
              "<tr>\n",
              "  <th>const</th> <td> 4.698e+04</td> <td> 2689.933</td> <td>   17.464</td> <td> 0.000</td> <td> 4.16e+04</td> <td> 5.24e+04</td>\n",
              "</tr>\n",
              "<tr>\n",
              "  <th>x1</th>    <td>    0.7966</td> <td>    0.041</td> <td>   19.266</td> <td> 0.000</td> <td>    0.713</td> <td>    0.880</td>\n",
              "</tr>\n",
              "<tr>\n",
              "  <th>x2</th>    <td>    0.0299</td> <td>    0.016</td> <td>    1.927</td> <td> 0.060</td> <td>   -0.001</td> <td>    0.061</td>\n",
              "</tr>\n",
              "</table>\n",
              "<table class=\"simpletable\">\n",
              "<tr>\n",
              "  <th>Omnibus:</th>       <td>14.677</td> <th>  Durbin-Watson:     </th> <td>   1.257</td>\n",
              "</tr>\n",
              "<tr>\n",
              "  <th>Prob(Omnibus):</th> <td> 0.001</td> <th>  Jarque-Bera (JB):  </th> <td>  21.161</td>\n",
              "</tr>\n",
              "<tr>\n",
              "  <th>Skew:</th>          <td>-0.939</td> <th>  Prob(JB):          </th> <td>2.54e-05</td>\n",
              "</tr>\n",
              "<tr>\n",
              "  <th>Kurtosis:</th>      <td> 5.575</td> <th>  Cond. No.          </th> <td>5.32e+05</td>\n",
              "</tr>\n",
              "</table><br/><br/>Warnings:<br/>[1] Standard Errors assume that the covariance matrix of the errors is correctly specified.<br/>[2] The condition number is large, 5.32e+05. This might indicate that there are<br/>strong multicollinearity or other numerical problems."
            ],
            "text/plain": [
              "<class 'statsmodels.iolib.summary.Summary'>\n",
              "\"\"\"\n",
              "                            OLS Regression Results                            \n",
              "==============================================================================\n",
              "Dep. Variable:                      y   R-squared:                       0.950\n",
              "Model:                            OLS   Adj. R-squared:                  0.948\n",
              "Method:                 Least Squares   F-statistic:                     450.8\n",
              "Date:                Fri, 29 May 2020   Prob (F-statistic):           2.16e-31\n",
              "Time:                        19:14:21   Log-Likelihood:                -525.54\n",
              "No. Observations:                  50   AIC:                             1057.\n",
              "Df Residuals:                      47   BIC:                             1063.\n",
              "Df Model:                           2                                         \n",
              "Covariance Type:            nonrobust                                         \n",
              "==============================================================================\n",
              "                 coef    std err          t      P>|t|      [0.025      0.975]\n",
              "------------------------------------------------------------------------------\n",
              "const       4.698e+04   2689.933     17.464      0.000    4.16e+04    5.24e+04\n",
              "x1             0.7966      0.041     19.266      0.000       0.713       0.880\n",
              "x2             0.0299      0.016      1.927      0.060      -0.001       0.061\n",
              "==============================================================================\n",
              "Omnibus:                       14.677   Durbin-Watson:                   1.257\n",
              "Prob(Omnibus):                  0.001   Jarque-Bera (JB):               21.161\n",
              "Skew:                          -0.939   Prob(JB):                     2.54e-05\n",
              "Kurtosis:                       5.575   Cond. No.                     5.32e+05\n",
              "==============================================================================\n",
              "\n",
              "Warnings:\n",
              "[1] Standard Errors assume that the covariance matrix of the errors is correctly specified.\n",
              "[2] The condition number is large, 5.32e+05. This might indicate that there are\n",
              "strong multicollinearity or other numerical problems.\n",
              "\"\"\""
            ]
          },
          "metadata": {
            "tags": []
          },
          "execution_count": 44
        }
      ]
    },
    {
      "cell_type": "code",
      "metadata": {
        "id": "EyG1qh3d25Iq",
        "colab_type": "code",
        "colab": {
          "base_uri": "https://localhost:8080/",
          "height": 478
        },
        "outputId": "91c5c36a-68f9-43a6-f016-8c4ec53f2931"
      },
      "source": [
        "X_opt = np.array(X[:, [0,3]], dtype=\"float\")\n",
        "regressor_OLS = sm.OLS(exog=X_opt,endog=Y).fit()\n",
        "regressor_OLS.summary()"
      ],
      "execution_count": 45,
      "outputs": [
        {
          "output_type": "execute_result",
          "data": {
            "text/html": [
              "<table class=\"simpletable\">\n",
              "<caption>OLS Regression Results</caption>\n",
              "<tr>\n",
              "  <th>Dep. Variable:</th>            <td>y</td>        <th>  R-squared:         </th> <td>   0.947</td>\n",
              "</tr>\n",
              "<tr>\n",
              "  <th>Model:</th>                   <td>OLS</td>       <th>  Adj. R-squared:    </th> <td>   0.945</td>\n",
              "</tr>\n",
              "<tr>\n",
              "  <th>Method:</th>             <td>Least Squares</td>  <th>  F-statistic:       </th> <td>   849.8</td>\n",
              "</tr>\n",
              "<tr>\n",
              "  <th>Date:</th>             <td>Fri, 29 May 2020</td> <th>  Prob (F-statistic):</th> <td>3.50e-32</td>\n",
              "</tr>\n",
              "<tr>\n",
              "  <th>Time:</th>                 <td>19:14:47</td>     <th>  Log-Likelihood:    </th> <td> -527.44</td>\n",
              "</tr>\n",
              "<tr>\n",
              "  <th>No. Observations:</th>      <td>    50</td>      <th>  AIC:               </th> <td>   1059.</td>\n",
              "</tr>\n",
              "<tr>\n",
              "  <th>Df Residuals:</th>          <td>    48</td>      <th>  BIC:               </th> <td>   1063.</td>\n",
              "</tr>\n",
              "<tr>\n",
              "  <th>Df Model:</th>              <td>     1</td>      <th>                     </th>     <td> </td>   \n",
              "</tr>\n",
              "<tr>\n",
              "  <th>Covariance Type:</th>      <td>nonrobust</td>    <th>                     </th>     <td> </td>   \n",
              "</tr>\n",
              "</table>\n",
              "<table class=\"simpletable\">\n",
              "<tr>\n",
              "    <td></td>       <th>coef</th>     <th>std err</th>      <th>t</th>      <th>P>|t|</th>  <th>[0.025</th>    <th>0.975]</th>  \n",
              "</tr>\n",
              "<tr>\n",
              "  <th>const</th> <td> 4.903e+04</td> <td> 2537.897</td> <td>   19.320</td> <td> 0.000</td> <td> 4.39e+04</td> <td> 5.41e+04</td>\n",
              "</tr>\n",
              "<tr>\n",
              "  <th>x1</th>    <td>    0.8543</td> <td>    0.029</td> <td>   29.151</td> <td> 0.000</td> <td>    0.795</td> <td>    0.913</td>\n",
              "</tr>\n",
              "</table>\n",
              "<table class=\"simpletable\">\n",
              "<tr>\n",
              "  <th>Omnibus:</th>       <td>13.727</td> <th>  Durbin-Watson:     </th> <td>   1.116</td>\n",
              "</tr>\n",
              "<tr>\n",
              "  <th>Prob(Omnibus):</th> <td> 0.001</td> <th>  Jarque-Bera (JB):  </th> <td>  18.536</td>\n",
              "</tr>\n",
              "<tr>\n",
              "  <th>Skew:</th>          <td>-0.911</td> <th>  Prob(JB):          </th> <td>9.44e-05</td>\n",
              "</tr>\n",
              "<tr>\n",
              "  <th>Kurtosis:</th>      <td> 5.361</td> <th>  Cond. No.          </th> <td>1.65e+05</td>\n",
              "</tr>\n",
              "</table><br/><br/>Warnings:<br/>[1] Standard Errors assume that the covariance matrix of the errors is correctly specified.<br/>[2] The condition number is large, 1.65e+05. This might indicate that there are<br/>strong multicollinearity or other numerical problems."
            ],
            "text/plain": [
              "<class 'statsmodels.iolib.summary.Summary'>\n",
              "\"\"\"\n",
              "                            OLS Regression Results                            \n",
              "==============================================================================\n",
              "Dep. Variable:                      y   R-squared:                       0.947\n",
              "Model:                            OLS   Adj. R-squared:                  0.945\n",
              "Method:                 Least Squares   F-statistic:                     849.8\n",
              "Date:                Fri, 29 May 2020   Prob (F-statistic):           3.50e-32\n",
              "Time:                        19:14:47   Log-Likelihood:                -527.44\n",
              "No. Observations:                  50   AIC:                             1059.\n",
              "Df Residuals:                      48   BIC:                             1063.\n",
              "Df Model:                           1                                         \n",
              "Covariance Type:            nonrobust                                         \n",
              "==============================================================================\n",
              "                 coef    std err          t      P>|t|      [0.025      0.975]\n",
              "------------------------------------------------------------------------------\n",
              "const       4.903e+04   2537.897     19.320      0.000    4.39e+04    5.41e+04\n",
              "x1             0.8543      0.029     29.151      0.000       0.795       0.913\n",
              "==============================================================================\n",
              "Omnibus:                       13.727   Durbin-Watson:                   1.116\n",
              "Prob(Omnibus):                  0.001   Jarque-Bera (JB):               18.536\n",
              "Skew:                          -0.911   Prob(JB):                     9.44e-05\n",
              "Kurtosis:                       5.361   Cond. No.                     1.65e+05\n",
              "==============================================================================\n",
              "\n",
              "Warnings:\n",
              "[1] Standard Errors assume that the covariance matrix of the errors is correctly specified.\n",
              "[2] The condition number is large, 1.65e+05. This might indicate that there are\n",
              "strong multicollinearity or other numerical problems.\n",
              "\"\"\""
            ]
          },
          "metadata": {
            "tags": []
          },
          "execution_count": 45
        }
      ]
    },
    {
      "cell_type": "code",
      "metadata": {
        "id": "8pzWYA0R4h3P",
        "colab_type": "code",
        "colab": {
          "base_uri": "https://localhost:8080/",
          "height": 867
        },
        "outputId": "a23df757-3b56-4e29-adef-f81da0516285"
      },
      "source": [
        "X_opt"
      ],
      "execution_count": 46,
      "outputs": [
        {
          "output_type": "execute_result",
          "data": {
            "text/plain": [
              "array([[1.0000000e+00, 1.6534920e+05],\n",
              "       [1.0000000e+00, 1.6259770e+05],\n",
              "       [1.0000000e+00, 1.5344151e+05],\n",
              "       [1.0000000e+00, 1.4437241e+05],\n",
              "       [1.0000000e+00, 1.4210734e+05],\n",
              "       [1.0000000e+00, 1.3187690e+05],\n",
              "       [1.0000000e+00, 1.3461546e+05],\n",
              "       [1.0000000e+00, 1.3029813e+05],\n",
              "       [1.0000000e+00, 1.2054252e+05],\n",
              "       [1.0000000e+00, 1.2333488e+05],\n",
              "       [1.0000000e+00, 1.0191308e+05],\n",
              "       [1.0000000e+00, 1.0067196e+05],\n",
              "       [1.0000000e+00, 9.3863750e+04],\n",
              "       [1.0000000e+00, 9.1992390e+04],\n",
              "       [1.0000000e+00, 1.1994324e+05],\n",
              "       [1.0000000e+00, 1.1452361e+05],\n",
              "       [1.0000000e+00, 7.8013110e+04],\n",
              "       [1.0000000e+00, 9.4657160e+04],\n",
              "       [1.0000000e+00, 9.1749160e+04],\n",
              "       [1.0000000e+00, 8.6419700e+04],\n",
              "       [1.0000000e+00, 7.6253860e+04],\n",
              "       [1.0000000e+00, 7.8389470e+04],\n",
              "       [1.0000000e+00, 7.3994560e+04],\n",
              "       [1.0000000e+00, 6.7532530e+04],\n",
              "       [1.0000000e+00, 7.7044010e+04],\n",
              "       [1.0000000e+00, 6.4664710e+04],\n",
              "       [1.0000000e+00, 7.5328870e+04],\n",
              "       [1.0000000e+00, 7.2107600e+04],\n",
              "       [1.0000000e+00, 6.6051520e+04],\n",
              "       [1.0000000e+00, 6.5605480e+04],\n",
              "       [1.0000000e+00, 6.1994480e+04],\n",
              "       [1.0000000e+00, 6.1136380e+04],\n",
              "       [1.0000000e+00, 6.3408860e+04],\n",
              "       [1.0000000e+00, 5.5493950e+04],\n",
              "       [1.0000000e+00, 4.6426070e+04],\n",
              "       [1.0000000e+00, 4.6014020e+04],\n",
              "       [1.0000000e+00, 2.8663760e+04],\n",
              "       [1.0000000e+00, 4.4069950e+04],\n",
              "       [1.0000000e+00, 2.0229590e+04],\n",
              "       [1.0000000e+00, 3.8558510e+04],\n",
              "       [1.0000000e+00, 2.8754330e+04],\n",
              "       [1.0000000e+00, 2.7892920e+04],\n",
              "       [1.0000000e+00, 2.3640930e+04],\n",
              "       [1.0000000e+00, 1.5505730e+04],\n",
              "       [1.0000000e+00, 2.2177740e+04],\n",
              "       [1.0000000e+00, 1.0002300e+03],\n",
              "       [1.0000000e+00, 1.3154600e+03],\n",
              "       [1.0000000e+00, 0.0000000e+00],\n",
              "       [1.0000000e+00, 5.4205000e+02],\n",
              "       [1.0000000e+00, 0.0000000e+00]])"
            ]
          },
          "metadata": {
            "tags": []
          },
          "execution_count": 46
        }
      ]
    },
    {
      "cell_type": "code",
      "metadata": {
        "id": "EIWVAfRn5oY4",
        "colab_type": "code",
        "colab": {}
      },
      "source": [
        "#Splitting the dataset for the optimised X\n",
        "X_opt_train,X_opt_test,Y_opt_train,Y_opt_test = train_test_split(X_opt,Y,test_size=0.2,random_state=0)"
      ],
      "execution_count": 0,
      "outputs": []
    },
    {
      "cell_type": "code",
      "metadata": {
        "id": "HFaLnxX16EQS",
        "colab_type": "code",
        "colab": {
          "base_uri": "https://localhost:8080/",
          "height": 697
        },
        "outputId": "c58c2612-e6af-4179-d943-408525fbdefd"
      },
      "source": [
        "X_opt_train"
      ],
      "execution_count": 48,
      "outputs": [
        {
          "output_type": "execute_result",
          "data": {
            "text/plain": [
              "array([[1.0000000e+00, 5.5493950e+04],\n",
              "       [1.0000000e+00, 4.6014020e+04],\n",
              "       [1.0000000e+00, 7.5328870e+04],\n",
              "       [1.0000000e+00, 4.6426070e+04],\n",
              "       [1.0000000e+00, 9.1749160e+04],\n",
              "       [1.0000000e+00, 1.3029813e+05],\n",
              "       [1.0000000e+00, 1.1994324e+05],\n",
              "       [1.0000000e+00, 1.0002300e+03],\n",
              "       [1.0000000e+00, 5.4205000e+02],\n",
              "       [1.0000000e+00, 6.5605480e+04],\n",
              "       [1.0000000e+00, 1.1452361e+05],\n",
              "       [1.0000000e+00, 6.1994480e+04],\n",
              "       [1.0000000e+00, 6.3408860e+04],\n",
              "       [1.0000000e+00, 7.8013110e+04],\n",
              "       [1.0000000e+00, 2.3640930e+04],\n",
              "       [1.0000000e+00, 7.6253860e+04],\n",
              "       [1.0000000e+00, 1.5505730e+04],\n",
              "       [1.0000000e+00, 1.2054252e+05],\n",
              "       [1.0000000e+00, 9.1992390e+04],\n",
              "       [1.0000000e+00, 6.4664710e+04],\n",
              "       [1.0000000e+00, 1.3187690e+05],\n",
              "       [1.0000000e+00, 9.4657160e+04],\n",
              "       [1.0000000e+00, 2.8754330e+04],\n",
              "       [1.0000000e+00, 0.0000000e+00],\n",
              "       [1.0000000e+00, 1.6259770e+05],\n",
              "       [1.0000000e+00, 9.3863750e+04],\n",
              "       [1.0000000e+00, 4.4069950e+04],\n",
              "       [1.0000000e+00, 7.7044010e+04],\n",
              "       [1.0000000e+00, 1.3461546e+05],\n",
              "       [1.0000000e+00, 6.7532530e+04],\n",
              "       [1.0000000e+00, 2.8663760e+04],\n",
              "       [1.0000000e+00, 7.8389470e+04],\n",
              "       [1.0000000e+00, 8.6419700e+04],\n",
              "       [1.0000000e+00, 1.2333488e+05],\n",
              "       [1.0000000e+00, 3.8558510e+04],\n",
              "       [1.0000000e+00, 1.3154600e+03],\n",
              "       [1.0000000e+00, 1.4437241e+05],\n",
              "       [1.0000000e+00, 1.6534920e+05],\n",
              "       [1.0000000e+00, 0.0000000e+00],\n",
              "       [1.0000000e+00, 2.2177740e+04]])"
            ]
          },
          "metadata": {
            "tags": []
          },
          "execution_count": 48
        }
      ]
    },
    {
      "cell_type": "code",
      "metadata": {
        "id": "wdoQGq7h6GiR",
        "colab_type": "code",
        "colab": {
          "base_uri": "https://localhost:8080/",
          "height": 187
        },
        "outputId": "e908acb1-50b3-40ed-b2aa-861c2fde1096"
      },
      "source": [
        "X_opt_test"
      ],
      "execution_count": 49,
      "outputs": [
        {
          "output_type": "execute_result",
          "data": {
            "text/plain": [
              "array([[1.0000000e+00, 6.6051520e+04],\n",
              "       [1.0000000e+00, 1.0067196e+05],\n",
              "       [1.0000000e+00, 1.0191308e+05],\n",
              "       [1.0000000e+00, 2.7892920e+04],\n",
              "       [1.0000000e+00, 1.5344151e+05],\n",
              "       [1.0000000e+00, 7.2107600e+04],\n",
              "       [1.0000000e+00, 2.0229590e+04],\n",
              "       [1.0000000e+00, 6.1136380e+04],\n",
              "       [1.0000000e+00, 7.3994560e+04],\n",
              "       [1.0000000e+00, 1.4210734e+05]])"
            ]
          },
          "metadata": {
            "tags": []
          },
          "execution_count": 49
        }
      ]
    },
    {
      "cell_type": "code",
      "metadata": {
        "id": "Yx46OZ1-6KZ6",
        "colab_type": "code",
        "colab": {
          "base_uri": "https://localhost:8080/",
          "height": 34
        },
        "outputId": "d153d84a-c619-49f4-b926-0bf44a1c658c"
      },
      "source": [
        "#Making a new object of Linear regressor for optimised X\n",
        "regressor_opt = LinearRegression()\n",
        "regressor_opt.fit(X_opt_train,Y_opt_train)"
      ],
      "execution_count": 50,
      "outputs": [
        {
          "output_type": "execute_result",
          "data": {
            "text/plain": [
              "LinearRegression(copy_X=True, fit_intercept=True, n_jobs=None, normalize=False)"
            ]
          },
          "metadata": {
            "tags": []
          },
          "execution_count": 50
        }
      ]
    },
    {
      "cell_type": "code",
      "metadata": {
        "id": "gtkd0srw6hLT",
        "colab_type": "code",
        "colab": {}
      },
      "source": [
        "#Making optimised prediction\n",
        "Y_opt_pred = regressor_opt.predict(X_opt_test)"
      ],
      "execution_count": 0,
      "outputs": []
    },
    {
      "cell_type": "code",
      "metadata": {
        "id": "DhL7LLHJ6tMu",
        "colab_type": "code",
        "colab": {
          "base_uri": "https://localhost:8080/",
          "height": 51
        },
        "outputId": "55d019b4-9735-467a-a848-60b84ad6620a"
      },
      "source": [
        "Y_opt_test"
      ],
      "execution_count": 52,
      "outputs": [
        {
          "output_type": "execute_result",
          "data": {
            "text/plain": [
              "array([103282.38, 144259.4 , 146121.95,  77798.83, 191050.39, 105008.31,\n",
              "        81229.06,  97483.56, 110352.25, 166187.94])"
            ]
          },
          "metadata": {
            "tags": []
          },
          "execution_count": 52
        }
      ]
    }
  ]
}